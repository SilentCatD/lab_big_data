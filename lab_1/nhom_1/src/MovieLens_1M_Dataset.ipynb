{
  "cells": [
    {
      "cell_type": "code",
      "execution_count": null,
      "metadata": {
        "colab": {
          "base_uri": "https://localhost:8080/"
        },
        "id": "lC_mdDdeqpYC",
        "outputId": "83f8be24-1204-4996-be98-5b3fee70f2a3"
      },
      "outputs": [
        {
          "name": "stdout",
          "output_type": "stream",
          "text": [
            "--2023-03-20 04:28:34--  https://raw.githubusercontent.com/usydnlp/Glocal_K/main/data/MovieLens_1M/movielens_1m_dataset.dat\n",
            "Resolving raw.githubusercontent.com (raw.githubusercontent.com)... 185.199.111.133, 185.199.109.133, 185.199.108.133, ...\n",
            "Connecting to raw.githubusercontent.com (raw.githubusercontent.com)|185.199.111.133|:443... connected.\n",
            "HTTP request sent, awaiting response... 200 OK\n",
            "Length: 24594131 (23M) [text/plain]\n",
            "Saving to: ‘movielens_1m_dataset.dat’\n",
            "\n",
            "movielens_1m_datase 100%[===================>]  23.45M  --.-KB/s    in 0.1s    \n",
            "\n",
            "2023-03-20 04:28:35 (219 MB/s) - ‘movielens_1m_dataset.dat’ saved [24594131/24594131]\n",
            "\n"
          ]
        }
      ],
      "source": [
        "!wget \"https://raw.githubusercontent.com/usydnlp/Glocal_K/main/data/MovieLens_1M/movielens_1m_dataset.dat\""
      ]
    },
    {
      "cell_type": "code",
      "execution_count": null,
      "metadata": {
        "colab": {
          "base_uri": "https://localhost:8080/"
        },
        "id": "M0GLGGUPkaN2",
        "outputId": "2c34dd6e-2fa7-4ff6-9671-aea9c496c10b"
      },
      "outputs": [
        {
          "name": "stdout",
          "output_type": "stream",
          "text": [
            "Looking in indexes: https://pypi.org/simple, https://us-python.pkg.dev/colab-wheels/public/simple/\n",
            "Collecting pyspark\n",
            "  Downloading pyspark-3.3.2.tar.gz (281.4 MB)\n",
            "\u001b[2K     \u001b[90m━━━━━━━━━━━━━━━━━━━━━━━━━━━━━━━━━━━━━━━\u001b[0m \u001b[32m281.4/281.4 MB\u001b[0m \u001b[31m4.1 MB/s\u001b[0m eta \u001b[36m0:00:00\u001b[0m\n",
            "\u001b[?25h  Preparing metadata (setup.py) ... \u001b[?25l\u001b[?25hdone\n",
            "Collecting py4j==0.10.9.5\n",
            "  Downloading py4j-0.10.9.5-py2.py3-none-any.whl (199 kB)\n",
            "\u001b[2K     \u001b[90m━━━━━━━━━━━━━━━━━━━━━━━━━━━━━━━━━━━━━━\u001b[0m \u001b[32m199.7/199.7 KB\u001b[0m \u001b[31m11.1 MB/s\u001b[0m eta \u001b[36m0:00:00\u001b[0m\n",
            "\u001b[?25hBuilding wheels for collected packages: pyspark\n",
            "  Building wheel for pyspark (setup.py) ... \u001b[?25l\u001b[?25hdone\n",
            "  Created wheel for pyspark: filename=pyspark-3.3.2-py2.py3-none-any.whl size=281824028 sha256=3241587d03747ae7e109a5213662c1ec4f06d4fe7fadf2532fbd621be5e7db27\n",
            "  Stored in directory: /root/.cache/pip/wheels/6c/e3/9b/0525ce8a69478916513509d43693511463c6468db0de237c86\n",
            "Successfully built pyspark\n",
            "Installing collected packages: py4j, pyspark\n",
            "  Attempting uninstall: py4j\n",
            "    Found existing installation: py4j 0.10.9.7\n",
            "    Uninstalling py4j-0.10.9.7:\n",
            "      Successfully uninstalled py4j-0.10.9.7\n",
            "Successfully installed py4j-0.10.9.5 pyspark-3.3.2\n"
          ]
        }
      ],
      "source": [
        "!pip install pyspark\n"
      ]
    },
    {
      "cell_type": "code",
      "execution_count": null,
      "metadata": {
        "id": "raUbcog1myR0"
      },
      "outputs": [],
      "source": [
        "from pyspark.sql import SparkSession\n",
        "from pyspark.ml.evaluation import RegressionEvaluator\n",
        "from pyspark.ml.recommendation import ALS\n",
        "from pyspark.sql import Row\n",
        "import itertools\n",
        "from math import sqrt\n",
        "from operator import add\n",
        "import time"
      ]
    },
    {
      "cell_type": "code",
      "execution_count": null,
      "metadata": {
        "id": "lD_mbUIemu5Q"
      },
      "outputs": [],
      "source": [
        "spark = SparkSession.builder.appName(\"ALSExample\").getOrCreate()"
      ]
    },
    {
      "cell_type": "code",
      "execution_count": null,
      "metadata": {
        "colab": {
          "base_uri": "https://localhost:8080/",
          "height": 219
        },
        "id": "GBrk0eiKmzB5",
        "outputId": "cd501497-73a8-4421-cd23-6c13fda11590"
      },
      "outputs": [
        {
          "data": {
            "text/html": [
              "\n",
              "            <div>\n",
              "                <p><b>SparkSession - in-memory</b></p>\n",
              "                \n",
              "        <div>\n",
              "            <p><b>SparkContext</b></p>\n",
              "\n",
              "            <p><a href=\"http://3384a69d0ee7:4040\">Spark UI</a></p>\n",
              "\n",
              "            <dl>\n",
              "              <dt>Version</dt>\n",
              "                <dd><code>v3.3.2</code></dd>\n",
              "              <dt>Master</dt>\n",
              "                <dd><code>local[*]</code></dd>\n",
              "              <dt>AppName</dt>\n",
              "                <dd><code>ALSExample</code></dd>\n",
              "            </dl>\n",
              "        </div>\n",
              "        \n",
              "            </div>\n",
              "        "
            ],
            "text/plain": [
              "<pyspark.sql.session.SparkSession at 0x7fd8645a1df0>"
            ]
          },
          "execution_count": 5,
          "metadata": {},
          "output_type": "execute_result"
        }
      ],
      "source": [
        "spark"
      ]
    },
    {
      "cell_type": "code",
      "execution_count": null,
      "metadata": {
        "id": "zJJTDD9_uo1x"
      },
      "outputs": [],
      "source": [
        "lines = spark.read.text(\"movielens_1m_dataset.dat\").rdd\n",
        "parts = lines.map(lambda row: row.value.split(\"::\"))\n",
        "ratingsRDD = parts.map(lambda p: Row(userId=int(p[0]), movieId=int(p[1]),\n",
        "                                      rating=float(p[2]), timestamp=int(p[3])))\n",
        "ratings = spark.createDataFrame(ratingsRDD)\n",
        "(training,validation,test) = ratings.randomSplit([0.6, 0.2, 0.2])"
      ]
    },
    {
      "cell_type": "code",
      "execution_count": null,
      "metadata": {
        "colab": {
          "base_uri": "https://localhost:8080/"
        },
        "id": "c1HhWUIFvz-N",
        "outputId": "39ecfa6b-cae8-4470-c9b1-9f2579d9366e"
      },
      "outputs": [
        {
          "name": "stdout",
          "output_type": "stream",
          "text": [
            "+------+-------+------+---------+\n",
            "|userId|movieId|rating|timestamp|\n",
            "+------+-------+------+---------+\n",
            "|     1|      1|   5.0|978824268|\n",
            "|     1|     48|   5.0|978824351|\n",
            "|     1|    150|   5.0|978301777|\n",
            "|     1|    260|   4.0|978300760|\n",
            "|     1|    527|   5.0|978824195|\n",
            "|     1|    531|   4.0|978302149|\n",
            "|     1|    594|   4.0|978302268|\n",
            "|     1|    595|   5.0|978824268|\n",
            "|     1|    661|   3.0|978302109|\n",
            "|     1|    783|   4.0|978824291|\n",
            "|     1|    914|   3.0|978301968|\n",
            "|     1|    919|   4.0|978301368|\n",
            "|     1|   1022|   5.0|978300055|\n",
            "|     1|   1028|   5.0|978301777|\n",
            "|     1|   1029|   5.0|978302205|\n",
            "|     1|   1097|   4.0|978301953|\n",
            "|     1|   1197|   3.0|978302268|\n",
            "|     1|   1207|   4.0|978300719|\n",
            "|     1|   1270|   5.0|978300055|\n",
            "|     1|   1287|   5.0|978302039|\n",
            "+------+-------+------+---------+\n",
            "only showing top 20 rows\n",
            "\n"
          ]
        }
      ],
      "source": [
        "training.show()"
      ]
    },
    {
      "cell_type": "code",
      "execution_count": null,
      "metadata": {
        "colab": {
          "base_uri": "https://localhost:8080/"
        },
        "id": "MjVbjH9GuwBA",
        "outputId": "6646b01f-fd6c-4457-dda1-3581da157783"
      },
      "outputs": [
        {
          "data": {
            "text/plain": [
              "599577"
            ]
          },
          "execution_count": 8,
          "metadata": {},
          "output_type": "execute_result"
        }
      ],
      "source": [
        "training.count()"
      ]
    },
    {
      "cell_type": "code",
      "execution_count": null,
      "metadata": {
        "colab": {
          "base_uri": "https://localhost:8080/"
        },
        "id": "HYNQspN8vq2D",
        "outputId": "902724e4-3aef-43cb-e176-c05518b159cb"
      },
      "outputs": [
        {
          "data": {
            "text/plain": [
              "200888"
            ]
          },
          "execution_count": 9,
          "metadata": {},
          "output_type": "execute_result"
        }
      ],
      "source": [
        "validation.count()"
      ]
    },
    {
      "cell_type": "code",
      "execution_count": null,
      "metadata": {
        "colab": {
          "base_uri": "https://localhost:8080/"
        },
        "id": "vkt3mxxkvs3W",
        "outputId": "6e2c4b7f-a69e-443c-b01a-4804d1e5b9f1"
      },
      "outputs": [
        {
          "data": {
            "text/plain": [
              "199744"
            ]
          },
          "execution_count": 10,
          "metadata": {},
          "output_type": "execute_result"
        }
      ],
      "source": [
        "test.count()"
      ]
    },
    {
      "cell_type": "code",
      "execution_count": null,
      "metadata": {
        "id": "8MiiHQvWxtoy"
      },
      "outputs": [],
      "source": [
        "ranks = [i for i in range(8, 12)]\n",
        "lambdas = [((i+1)*0.01) for i in range(5)]\n",
        "numIters = [i for i in range(8, 12)]\n",
        "bestModel = None\n",
        "bestValidationRmse = float(\"inf\")\n",
        "bestRank = 0\n",
        "bestLambda = -1.0\n",
        "bestNumIter = -1"
      ]
    },
    {
      "cell_type": "code",
      "execution_count": null,
      "metadata": {
        "id": "jmrZZE__zcUE"
      },
      "outputs": [],
      "source": [
        "evaluator = RegressionEvaluator(metricName=\"rmse\", labelCol=\"rating\",\n",
        "                                predictionCol=\"prediction\")"
      ]
    },
    {
      "cell_type": "code",
      "execution_count": null,
      "metadata": {
        "colab": {
          "background_save": true,
          "base_uri": "https://localhost:8080/"
        },
        "id": "j9MdqrSByx2u",
        "outputId": "f3e55dc2-7717-4b7c-ca2c-7631d2b6d324"
      },
      "outputs": [
        {
          "name": "stdout",
          "output_type": "stream",
          "text": [
            "1 / 80 | RMSE (validation) = 0.9118508889140546 for the model trained with rank = 8, lambda = 0.01, and numIter = 8 in 64 seconds\n",
            "2 / 80 | RMSE (validation) = 0.9110809089655298 for the model trained with rank = 8, lambda = 0.01, and numIter = 9 in 51 seconds\n",
            "3 / 80 | RMSE (validation) = 0.9106109478183034 for the model trained with rank = 8, lambda = 0.01, and numIter = 10 in 54 seconds\n",
            "4 / 80 | RMSE (validation) = 0.9103438165773897 for the model trained with rank = 8, lambda = 0.01, and numIter = 11 in 50 seconds\n",
            "5 / 80 | RMSE (validation) = 0.8936643987055066 for the model trained with rank = 8, lambda = 0.02, and numIter = 8 in 45 seconds\n",
            "6 / 80 | RMSE (validation) = 0.892725160780075 for the model trained with rank = 8, lambda = 0.02, and numIter = 9 in 47 seconds\n",
            "7 / 80 | RMSE (validation) = 0.8920375916962698 for the model trained with rank = 8, lambda = 0.02, and numIter = 10 in 47 seconds\n",
            "8 / 80 | RMSE (validation) = 0.8914996003304769 for the model trained with rank = 8, lambda = 0.02, and numIter = 11 in 50 seconds\n",
            "9 / 80 | RMSE (validation) = 0.8838586649863729 for the model trained with rank = 8, lambda = 0.03, and numIter = 8 in 43 seconds\n",
            "10 / 80 | RMSE (validation) = 0.8827249116036836 for the model trained with rank = 8, lambda = 0.03, and numIter = 9 in 45 seconds\n",
            "11 / 80 | RMSE (validation) = 0.8819016073605597 for the model trained with rank = 8, lambda = 0.03, and numIter = 10 in 46 seconds\n",
            "12 / 80 | RMSE (validation) = 0.8812915161974758 for the model trained with rank = 8, lambda = 0.03, and numIter = 11 in 46 seconds\n",
            "13 / 80 | RMSE (validation) = 0.8783462617367215 for the model trained with rank = 8, lambda = 0.04, and numIter = 8 in 44 seconds\n",
            "14 / 80 | RMSE (validation) = 0.8770575206251097 for the model trained with rank = 8, lambda = 0.04, and numIter = 9 in 44 seconds\n",
            "15 / 80 | RMSE (validation) = 0.876106534308525 for the model trained with rank = 8, lambda = 0.04, and numIter = 10 in 46 seconds\n",
            "16 / 80 | RMSE (validation) = 0.8753842381195119 for the model trained with rank = 8, lambda = 0.04, and numIter = 11 in 46 seconds\n",
            "17 / 80 | RMSE (validation) = 0.8754167686874896 for the model trained with rank = 8, lambda = 0.05, and numIter = 8 in 42 seconds\n",
            "18 / 80 | RMSE (validation) = 0.8739092544565543 for the model trained with rank = 8, lambda = 0.05, and numIter = 9 in 44 seconds\n",
            "19 / 80 | RMSE (validation) = 0.8727710466014346 for the model trained with rank = 8, lambda = 0.05, and numIter = 10 in 46 seconds\n",
            "20 / 80 | RMSE (validation) = 0.8718855411894996 for the model trained with rank = 8, lambda = 0.05, and numIter = 11 in 46 seconds\n",
            "21 / 80 | RMSE (validation) = 0.9238958187449844 for the model trained with rank = 9, lambda = 0.01, and numIter = 8 in 45 seconds\n",
            "22 / 80 | RMSE (validation) = 0.9233059835636106 for the model trained with rank = 9, lambda = 0.01, and numIter = 9 in 45 seconds\n",
            "23 / 80 | RMSE (validation) = 0.9228442745889062 for the model trained with rank = 9, lambda = 0.01, and numIter = 10 in 45 seconds\n",
            "24 / 80 | RMSE (validation) = 0.9225251754066992 for the model trained with rank = 9, lambda = 0.01, and numIter = 11 in 47 seconds\n",
            "25 / 80 | RMSE (validation) = 0.9008865957133724 for the model trained with rank = 9, lambda = 0.02, and numIter = 8 in 43 seconds\n",
            "26 / 80 | RMSE (validation) = 0.9000271954308038 for the model trained with rank = 9, lambda = 0.02, and numIter = 9 in 45 seconds\n",
            "27 / 80 | RMSE (validation) = 0.8993805727217794 for the model trained with rank = 9, lambda = 0.02, and numIter = 10 in 45 seconds\n",
            "28 / 80 | RMSE (validation) = 0.898855183718063 for the model trained with rank = 9, lambda = 0.02, and numIter = 11 in 47 seconds\n",
            "29 / 80 | RMSE (validation) = 0.8886261775516251 for the model trained with rank = 9, lambda = 0.03, and numIter = 8 in 42 seconds\n",
            "30 / 80 | RMSE (validation) = 0.8875404692600423 for the model trained with rank = 9, lambda = 0.03, and numIter = 9 in 44 seconds\n",
            "31 / 80 | RMSE (validation) = 0.8867050098881345 for the model trained with rank = 9, lambda = 0.03, and numIter = 10 in 44 seconds\n",
            "32 / 80 | RMSE (validation) = 0.8860634288495308 for the model trained with rank = 9, lambda = 0.03, and numIter = 11 in 46 seconds\n",
            "33 / 80 | RMSE (validation) = 0.8814839304214042 for the model trained with rank = 9, lambda = 0.04, and numIter = 8 in 42 seconds\n",
            "34 / 80 | RMSE (validation) = 0.880267377211212 for the model trained with rank = 9, lambda = 0.04, and numIter = 9 in 47 seconds\n",
            "35 / 80 | RMSE (validation) = 0.8793145022057868 for the model trained with rank = 9, lambda = 0.04, and numIter = 10 in 44 seconds\n",
            "36 / 80 | RMSE (validation) = 0.8785314981542641 for the model trained with rank = 9, lambda = 0.04, and numIter = 11 in 45 seconds\n",
            "37 / 80 | RMSE (validation) = 0.877523870647813 for the model trained with rank = 9, lambda = 0.05, and numIter = 8 in 42 seconds\n",
            "38 / 80 | RMSE (validation) = 0.8760880011857989 for the model trained with rank = 9, lambda = 0.05, and numIter = 9 in 47 seconds\n",
            "39 / 80 | RMSE (validation) = 0.8749130521209059 for the model trained with rank = 9, lambda = 0.05, and numIter = 10 in 46 seconds\n",
            "40 / 80 | RMSE (validation) = 0.8739117079193872 for the model trained with rank = 9, lambda = 0.05, and numIter = 11 in 47 seconds\n",
            "41 / 80 | RMSE (validation) = 0.925109902219996 for the model trained with rank = 10, lambda = 0.01, and numIter = 8 in 43 seconds\n",
            "42 / 80 | RMSE (validation) = 0.9255647528239282 for the model trained with rank = 10, lambda = 0.01, and numIter = 9 in 44 seconds\n",
            "43 / 80 | RMSE (validation) = 0.9259622858292443 for the model trained with rank = 10, lambda = 0.01, and numIter = 10 in 45 seconds\n",
            "44 / 80 | RMSE (validation) = 0.926229786420728 for the model trained with rank = 10, lambda = 0.01, and numIter = 11 in 46 seconds\n",
            "45 / 80 | RMSE (validation) = 0.9013503154688318 for the model trained with rank = 10, lambda = 0.02, and numIter = 8 in 42 seconds\n",
            "46 / 80 | RMSE (validation) = 0.9009241681304896 for the model trained with rank = 10, lambda = 0.02, and numIter = 9 in 43 seconds\n",
            "47 / 80 | RMSE (validation) = 0.9005312843892627 for the model trained with rank = 10, lambda = 0.02, and numIter = 10 in 45 seconds\n",
            "48 / 80 | RMSE (validation) = 0.9001786538683142 for the model trained with rank = 10, lambda = 0.02, and numIter = 11 in 50 seconds\n",
            "49 / 80 | RMSE (validation) = 0.8877377112643826 for the model trained with rank = 10, lambda = 0.03, and numIter = 8 in 42 seconds\n",
            "50 / 80 | RMSE (validation) = 0.8869835974659876 for the model trained with rank = 10, lambda = 0.03, and numIter = 9 in 44 seconds\n",
            "51 / 80 | RMSE (validation) = 0.8863679687740742 for the model trained with rank = 10, lambda = 0.03, and numIter = 10 in 48 seconds\n",
            "52 / 80 | RMSE (validation) = 0.8858720754471251 for the model trained with rank = 10, lambda = 0.03, and numIter = 11 in 46 seconds\n",
            "53 / 80 | RMSE (validation) = 0.8792823173170639 for the model trained with rank = 10, lambda = 0.04, and numIter = 8 in 43 seconds\n",
            "54 / 80 | RMSE (validation) = 0.8783980152663572 for the model trained with rank = 10, lambda = 0.04, and numIter = 9 in 44 seconds\n",
            "55 / 80 | RMSE (validation) = 0.8776978446901791 for the model trained with rank = 10, lambda = 0.04, and numIter = 10 in 45 seconds\n",
            "56 / 80 | RMSE (validation) = 0.8771378357086751 for the model trained with rank = 10, lambda = 0.04, and numIter = 11 in 45 seconds\n",
            "57 / 80 | RMSE (validation) = 0.8741193566737249 for the model trained with rank = 10, lambda = 0.05, and numIter = 8 in 42 seconds\n",
            "58 / 80 | RMSE (validation) = 0.8731223968714469 for the model trained with rank = 10, lambda = 0.05, and numIter = 9 in 43 seconds\n",
            "59 / 80 | RMSE (validation) = 0.8723399731529922 for the model trained with rank = 10, lambda = 0.05, and numIter = 10 in 45 seconds\n",
            "60 / 80 | RMSE (validation) = 0.8717119366122883 for the model trained with rank = 10, lambda = 0.05, and numIter = 11 in 47 seconds\n",
            "61 / 80 | RMSE (validation) = 0.9357503011418814 for the model trained with rank = 11, lambda = 0.01, and numIter = 8 in 43 seconds\n",
            "62 / 80 | RMSE (validation) = 0.9360620802008166 for the model trained with rank = 11, lambda = 0.01, and numIter = 9 in 43 seconds\n",
            "63 / 80 | RMSE (validation) = 0.9364083869089683 for the model trained with rank = 11, lambda = 0.01, and numIter = 10 in 46 seconds\n",
            "64 / 80 | RMSE (validation) = 0.9367293340663321 for the model trained with rank = 11, lambda = 0.01, and numIter = 11 in 45 seconds\n",
            "65 / 80 | RMSE (validation) = 0.9079815118960355 for the model trained with rank = 11, lambda = 0.02, and numIter = 8 in 44 seconds\n",
            "66 / 80 | RMSE (validation) = 0.9075961229589328 for the model trained with rank = 11, lambda = 0.02, and numIter = 9 in 43 seconds\n",
            "67 / 80 | RMSE (validation) = 0.9073656925519701 for the model trained with rank = 11, lambda = 0.02, and numIter = 10 in 48 seconds\n",
            "68 / 80 | RMSE (validation) = 0.9072139425527611 for the model trained with rank = 11, lambda = 0.02, and numIter = 11 in 47 seconds\n",
            "69 / 80 | RMSE (validation) = 0.8927432864222128 for the model trained with rank = 11, lambda = 0.03, and numIter = 8 in 42 seconds\n",
            "70 / 80 | RMSE (validation) = 0.8919698249825531 for the model trained with rank = 11, lambda = 0.03, and numIter = 9 in 44 seconds\n",
            "71 / 80 | RMSE (validation) = 0.8913462507331382 for the model trained with rank = 11, lambda = 0.03, and numIter = 10 in 45 seconds\n",
            "72 / 80 | RMSE (validation) = 0.8908179739259864 for the model trained with rank = 11, lambda = 0.03, and numIter = 11 in 52 seconds\n",
            "73 / 80 | RMSE (validation) = 0.8833825180467145 for the model trained with rank = 11, lambda = 0.04, and numIter = 8 in 46 seconds\n",
            "74 / 80 | RMSE (validation) = 0.882301728463964 for the model trained with rank = 11, lambda = 0.04, and numIter = 9 in 45 seconds\n",
            "75 / 80 | RMSE (validation) = 0.8814153604229712 for the model trained with rank = 11, lambda = 0.04, and numIter = 10 in 47 seconds\n",
            "76 / 80 | RMSE (validation) = 0.8806601435195955 for the model trained with rank = 11, lambda = 0.04, and numIter = 11 in 47 seconds\n",
            "77 / 80 | RMSE (validation) = 0.8777919517409958 for the model trained with rank = 11, lambda = 0.05, and numIter = 8 in 43 seconds\n",
            "78 / 80 | RMSE (validation) = 0.8764113186739836 for the model trained with rank = 11, lambda = 0.05, and numIter = 9 in 44 seconds\n",
            "79 / 80 | RMSE (validation) = 0.8752815737878126 for the model trained with rank = 11, lambda = 0.05, and numIter = 10 in 44 seconds\n",
            "80 / 80 | RMSE (validation) = 0.8743316701382736 for the model trained with rank = 11, lambda = 0.05, and numIter = 11 in 47 seconds\n"
          ]
        }
      ],
      "source": [
        "total_loop = len(ranks) * len(lambdas) * len(numIters)\n",
        "count = 1\n",
        "for rank, lmbda, numIter in itertools.product(ranks, lambdas, numIters):\n",
        "  tic = time.perf_counter()\n",
        "  # Build the recommendation model using ALS on the training data\n",
        "  # Note we set cold start strategy to 'drop' to ensure we don't get NaN evaluation metrics\n",
        "  als = ALS(maxIter=numIter, regParam=lmbda, rank=rank,userCol=\"userId\", itemCol=\"movieId\", ratingCol=\"rating\",\n",
        "            coldStartStrategy=\"drop\")\n",
        "  model = als.fit(training)\n",
        "  predictions = model.transform(validation)\n",
        "  rmse = evaluator.evaluate(predictions)\n",
        "\n",
        "  if (rmse < bestValidationRmse):\n",
        "            bestModel = model\n",
        "            bestValidationRmse = rmse\n",
        "            bestRank = rank\n",
        "            bestLambda = lmbda\n",
        "            bestNumIter = numIter\n",
        "  toc = time.perf_counter()\n",
        "  duration = toc - tic\n",
        "  print(f\"{count} / {total_loop} | RMSE (validation) = {rmse} for the model trained with \" \\\n",
        "            f\"rank = {rank}, lambda = {lmbda}, and numIter = {numIter} in {int(duration)} seconds\")\n",
        "  count+=1"
      ]
    },
    {
      "cell_type": "code",
      "execution_count": null,
      "metadata": {
        "colab": {
          "background_save": true
        },
        "id": "0tQ3m6PLnuxA",
        "outputId": "5db2e967-403f-4648-fec3-5935d2425b2e"
      },
      "outputs": [
        {
          "name": "stdout",
          "output_type": "stream",
          "text": [
            "RMSE (validation) = 0.8720499411343874 for the model trained with rank =10, lambda = 0.05, and numIter = 11.\n",
            "+------+--------------------+\n",
            "|userId|     recommendations|\n",
            "+------+--------------------+\n",
            "|     1|[{1421, 6.389059}...|\n",
            "|     3|[{3847, 5.9229603...|\n",
            "|     5|[{850, 5.397816},...|\n",
            "|     6|[{831, 5.9605584}...|\n",
            "|     9|[{2309, 4.8958163...|\n",
            "|    12|[{1421, 5.3103156...|\n",
            "|    13|[{572, 4.808655},...|\n",
            "|    15|[{572, 4.9886327}...|\n",
            "|    16|[{1930, 6.488145}...|\n",
            "|    17|[{572, 5.7920113}...|\n",
            "|    19|[{572, 5.0061007}...|\n",
            "|    20|[{1117, 6.353433}...|\n",
            "|    22|[{557, 4.5964837}...|\n",
            "|    26|[{572, 5.0878906}...|\n",
            "|    27|[{1450, 6.004456}...|\n",
            "|    28|[{557, 4.7801194}...|\n",
            "|    31|[{572, 5.278276},...|\n",
            "|    34|[{572, 5.733081},...|\n",
            "|    35|[{1450, 4.923674}...|\n",
            "|    37|[{1169, 6.085557}...|\n",
            "+------+--------------------+\n",
            "only showing top 20 rows\n",
            "\n",
            "+-------+--------------------+\n",
            "|movieId|     recommendations|\n",
            "+-------+--------------------+\n",
            "|      1|[{3373, 5.978347}...|\n",
            "|      3|[{3915, 5.1842895...|\n",
            "|      5|[{527, 5.066354},...|\n",
            "|      6|[{3324, 4.9924645...|\n",
            "|      9|[{4633, 5.2173176...|\n",
            "|     12|[{3897, 4.9058576...|\n",
            "|     13|[{5051, 5.4363117...|\n",
            "|     15|[{4751, 5.797198}...|\n",
            "|     16|[{5670, 5.3660502...|\n",
            "|     17|[{4163, 5.7102876...|\n",
            "|     19|[{1309, 4.994522}...|\n",
            "|     20|[{4633, 4.54741},...|\n",
            "|     22|[{2697, 5.243438}...|\n",
            "|     26|[{4676, 5.8538113...|\n",
            "|     27|[{4633, 5.822758}...|\n",
            "|     28|[{640, 5.883411},...|\n",
            "|     31|[{5188, 5.4782896...|\n",
            "|     34|[{4163, 5.8582716...|\n",
            "|     35|[{1783, 4.5916376...|\n",
            "|     37|[{3932, 7.275281}...|\n",
            "+-------+--------------------+\n",
            "only showing top 20 rows\n",
            "\n",
            "+------+--------------------+\n",
            "|userId|     recommendations|\n",
            "+------+--------------------+\n",
            "|   474|[{1420, 5.6726933...|\n",
            "|    26|[{572, 5.0878906}...|\n",
            "|    29|[{3847, 5.7965846...|\n",
            "+------+--------------------+\n",
            "\n",
            "+-------+--------------------+\n",
            "|movieId|     recommendations|\n",
            "+-------+--------------------+\n",
            "|    474|[{3902, 5.094216}...|\n",
            "|   1806|[{1282, 4.861246}...|\n",
            "|     29|[{784, 5.741286},...|\n",
            "+-------+--------------------+\n",
            "\n"
          ]
        }
      ],
      "source": [
        "# Evaluate the model by computing the RMSE on the test data\n",
        "predictions = bestModel.transform(test)\n",
        "rmse = evaluator.evaluate(predictions)\n",
        "print(f\"RMSE (validation) = {rmse} for the model trained with \" \\\n",
        "            f\"rank ={bestRank}, lambda = {bestLambda}, and numIter = {bestNumIter}.\")\n",
        "\n",
        "# Generate top 10 movie recommendations for each user\n",
        "userRecs = bestModel.recommendForAllUsers(10)\n",
        "# Generate top 10 user recommendations for each movie\n",
        "movieRecs = bestModel.recommendForAllItems(10)\n",
        "\n",
        "# Generate top 10 movie recommendations for a specified set of users\n",
        "users = ratings.select(als.getUserCol()).distinct().limit(3)\n",
        "userSubsetRecs = bestModel.recommendForUserSubset(users, 10)\n",
        "# Generate top 10 user recommendations for a specified set of movies\n",
        "movies = ratings.select(als.getItemCol()).distinct().limit(3)\n",
        "movieSubSetRecs = bestModel.recommendForItemSubset(movies, 10)\n",
        "# $example off$\n",
        "userRecs.show()\n",
        "movieRecs.show()\n",
        "userSubsetRecs.show()\n",
        "movieSubSetRecs.show()"
      ]
    }
  ],
  "metadata": {
    "colab": {
      "provenance": []
    },
    "kernelspec": {
      "display_name": "Python 3",
      "name": "python3"
    },
    "language_info": {
      "name": "python"
    }
  },
  "nbformat": 4,
  "nbformat_minor": 0
}