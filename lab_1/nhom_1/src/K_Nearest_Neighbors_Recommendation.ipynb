{
  "nbformat": 4,
  "nbformat_minor": 0,
  "metadata": {
    "colab": {
      "provenance": []
    },
    "kernelspec": {
      "name": "python3",
      "display_name": "Python 3"
    },
    "language_info": {
      "name": "python"
    }
  },
  "cells": [
    {
      "cell_type": "markdown",
      "source": [
        "## Load dataset"
      ],
      "metadata": {
        "id": "FDam1e4liH3i"
      }
    },
    {
      "cell_type": "code",
      "execution_count": 1,
      "metadata": {
        "colab": {
          "base_uri": "https://localhost:8080/"
        },
        "id": "vg4hyWdMnlKu",
        "outputId": "9c34da26-8178-4143-9e96-85b9d3c21870"
      },
      "outputs": [
        {
          "output_type": "stream",
          "name": "stdout",
          "text": [
            "--2023-03-20 13:57:05--  https://raw.githubusercontent.com/usydnlp/Glocal_K/main/data/MovieLens_100K/movielens_100k_u1.base\n",
            "Resolving raw.githubusercontent.com (raw.githubusercontent.com)... 185.199.108.133, 185.199.109.133, 185.199.110.133, ...\n",
            "Connecting to raw.githubusercontent.com (raw.githubusercontent.com)|185.199.108.133|:443... connected.\n",
            "HTTP request sent, awaiting response... 200 OK\n",
            "Length: 1586544 (1.5M) [text/plain]\n",
            "Saving to: ‘movielens_100k_u1.base’\n",
            "\n",
            "movielens_100k_u1.b 100%[===================>]   1.51M  --.-KB/s    in 0.06s   \n",
            "\n",
            "2023-03-20 13:57:06 (25.7 MB/s) - ‘movielens_100k_u1.base’ saved [1586544/1586544]\n",
            "\n",
            "--2023-03-20 13:57:06--  https://raw.githubusercontent.com/usydnlp/Glocal_K/main/data/MovieLens_100K/movielens_100k_u1.test\n",
            "Resolving raw.githubusercontent.com (raw.githubusercontent.com)... 185.199.108.133, 185.199.109.133, 185.199.110.133, ...\n",
            "Connecting to raw.githubusercontent.com (raw.githubusercontent.com)|185.199.108.133|:443... connected.\n",
            "HTTP request sent, awaiting response... 200 OK\n",
            "Length: 392629 (383K) [text/plain]\n",
            "Saving to: ‘movielens_100k_u1.test’\n",
            "\n",
            "movielens_100k_u1.t 100%[===================>] 383.43K  --.-KB/s    in 0.03s   \n",
            "\n",
            "2023-03-20 13:57:06 (10.8 MB/s) - ‘movielens_100k_u1.test’ saved [392629/392629]\n",
            "\n"
          ]
        }
      ],
      "source": [
        "!wget \"https://raw.githubusercontent.com/usydnlp/Glocal_K/main/data/MovieLens_100K/movielens_100k_u1.base\"\n",
        "!wget \"https://raw.githubusercontent.com/usydnlp/Glocal_K/main/data/MovieLens_100K/movielens_100k_u1.test\""
      ]
    },
    {
      "cell_type": "code",
      "source": [
        "import time\n",
        "from scipy.sparse import csc_matrix\n",
        "import numpy as np\n",
        "import h5py\n",
        "import math as m"
      ],
      "metadata": {
        "id": "_Pi-gSsMn4Ko"
      },
      "execution_count": 2,
      "outputs": []
    },
    {
      "cell_type": "code",
      "source": [
        "def load_data_100k(path='./', delimiter='\\t'):\n",
        "\n",
        "    train = np.loadtxt(path+'movielens_100k_u1.base', skiprows=0, delimiter=delimiter).astype('int32')\n",
        "    test = np.loadtxt(path+'movielens_100k_u1.test', skiprows=0, delimiter=delimiter).astype('int32')\n",
        "    total = np.concatenate((train, test), axis=0)\n",
        "\n",
        "    n_u = np.unique(total[:,0]).size  # num of users\n",
        "    n_m = np.unique(total[:,1]).size  # num of movies\n",
        "    n_train = train.shape[0]  # num of training ratings\n",
        "    n_test = test.shape[0]  # num of test ratings\n",
        "\n",
        "    train_r = np.zeros((n_m, n_u), dtype='float32')\n",
        "    test_r = np.zeros((n_m, n_u), dtype='float32')\n",
        "\n",
        "    for i in range(n_train):\n",
        "        train_r[train[i,1]-1, train[i,0]-1] = train[i,2]\n",
        "\n",
        "    for i in range(n_test):\n",
        "        test_r[test[i,1]-1, test[i,0]-1] = test[i,2]\n",
        "\n",
        "    train_m = np.greater(train_r, 1e-12).astype('float32')  # masks indicating non-zero entries\n",
        "    test_m = np.greater(test_r, 1e-12).astype('float32')\n",
        "\n",
        "    print('data matrix loaded')\n",
        "    print('num of users: {}'.format(n_u))\n",
        "    print('num of movies: {}'.format(n_m))\n",
        "    print('num of training ratings: {}'.format(n_train))\n",
        "    print('num of test ratings: {}'.format(n_test))\n",
        "\n",
        "    return n_m, n_u, train_r, train_m, test_r, test_m"
      ],
      "metadata": {
        "id": "oBQi7r9Kn-T4"
      },
      "execution_count": 3,
      "outputs": []
    },
    {
      "cell_type": "code",
      "source": [
        "# Insert the path of a data directory by yourself (e.g., '/content/.../data')\n",
        "data_path = './'"
      ],
      "metadata": {
        "id": "ecF7uU1pn_nu"
      },
      "execution_count": 4,
      "outputs": []
    },
    {
      "cell_type": "code",
      "source": [
        "n_m, n_u, train_r, train_m, test_r, test_m = load_data_100k(path=data_path, delimiter='\\t')"
      ],
      "metadata": {
        "colab": {
          "base_uri": "https://localhost:8080/"
        },
        "id": "_mHuMvg8oEv3",
        "outputId": "2e7cea13-c9d5-43f5-e0c6-c446c3eadb84"
      },
      "execution_count": 5,
      "outputs": [
        {
          "output_type": "stream",
          "name": "stdout",
          "text": [
            "data matrix loaded\n",
            "num of users: 943\n",
            "num of movies: 1682\n",
            "num of training ratings: 80000\n",
            "num of test ratings: 20000\n"
          ]
        }
      ]
    },
    {
      "cell_type": "code",
      "source": [
        "test_m.shape"
      ],
      "metadata": {
        "colab": {
          "base_uri": "https://localhost:8080/"
        },
        "id": "XRHf6B1SqNjP",
        "outputId": "c1c62c4e-9b31-429e-9df5-343ecb5daf79"
      },
      "execution_count": 6,
      "outputs": [
        {
          "output_type": "execute_result",
          "data": {
            "text/plain": [
              "(1682, 943)"
            ]
          },
          "metadata": {},
          "execution_count": 6
        }
      ]
    },
    {
      "cell_type": "code",
      "source": [
        "train_m.shape"
      ],
      "metadata": {
        "colab": {
          "base_uri": "https://localhost:8080/"
        },
        "id": "16MOfXVZqOMI",
        "outputId": "f6f06605-857c-4e49-a11f-a73353b5001e"
      },
      "execution_count": 7,
      "outputs": [
        {
          "output_type": "execute_result",
          "data": {
            "text/plain": [
              "(1682, 943)"
            ]
          },
          "metadata": {},
          "execution_count": 7
        }
      ]
    },
    {
      "cell_type": "markdown",
      "source": [
        "## Some function for both algorithms"
      ],
      "metadata": {
        "id": "-ComFBe_g0-c"
      }
    },
    {
      "cell_type": "code",
      "source": [
        "def calc_average_rating(data: np.ndarray, data_mask: np.ndarray, n_user: int) -> np.ndarray:\n",
        "    result = np.empty(n_user, dtype='float32')\n",
        "    for i in range(n_user):\n",
        "        total_rating_score = data[:, i].sum()\n",
        "        total_rating_action = data_mask[:, i].sum()\n",
        "        result[i] = (total_rating_score / total_rating_action)\n",
        "    return result"
      ],
      "metadata": {
        "id": "zOkBhDgYDdrP"
      },
      "execution_count": 8,
      "outputs": []
    },
    {
      "cell_type": "code",
      "source": [
        "def rmse(predicted: np.ndarray, test:np.ndarray, test_m:np.ndarray, n_user, n_item) -> float:\n",
        "  pred_flat = []\n",
        "  test_flat = []\n",
        "  for item in range(n_item):\n",
        "    for user in range(n_user):\n",
        "      if test_m[item][user] == 1:\n",
        "        pred_flat.append(predicted[item][user])\n",
        "        test_flat.append(test[item][user])\n",
        "  pred_flat = np.asarray(pred_flat)\n",
        "  test_flat = np.asarray(test_flat)\n",
        "  return np.sqrt(np.mean((pred_flat-test_flat)**2))"
      ],
      "metadata": {
        "id": "TzccN8GBg4e4"
      },
      "execution_count": 9,
      "outputs": []
    },
    {
      "cell_type": "markdown",
      "source": [
        "## UBCF"
      ],
      "metadata": {
        "id": "mzCfcZvNgN8b"
      }
    },
    {
      "cell_type": "code",
      "source": [
        "def calc_user_sim(data: np.ndarray, data_mask: np.ndarray, average_rating: np.ndarray, n_item: int,\n",
        "             user_u: int,\n",
        "             user_v: int) -> float:\n",
        "    if user_u == user_v:\n",
        "        return -1\n",
        "    common_item = []\n",
        "    for i in range(n_item):\n",
        "        if data_mask[i][user_u] and data_mask[i][user_v]:\n",
        "            common_item.append(i)\n",
        "    if common_item:\n",
        "        numerator = 0.0\n",
        "        denominator_left = 0.0\n",
        "        denominator_right = 0.0\n",
        "        for item in common_item:\n",
        "            numerator += (data[item][user_u] - average_rating[user_u]) * (data[item][user_v] - average_rating[user_v])\n",
        "            denominator_left += m.pow(data[item][user_u] - average_rating[user_u], 2)\n",
        "            denominator_right += m.pow(data[item][user_v] - average_rating[user_v], 2)\n",
        "        denominator = m.sqrt(denominator_left) * m.sqrt(denominator_right)\n",
        "        if denominator == 0 :\n",
        "            denominator = 0.001\n",
        "        return numerator / denominator\n",
        "    else:\n",
        "        return - 1"
      ],
      "metadata": {
        "id": "635_UloPgT5k"
      },
      "execution_count": 10,
      "outputs": []
    },
    {
      "cell_type": "code",
      "source": [
        "def ubcf_predict_rating(data: np.ndarray, sims: np.ndarray, top_sims: np.ndarray, top_k: int, item: int, user: int, average_ratings: list) -> float:\n",
        "    numerator = 0.0\n",
        "    denominator = 0.0\n",
        "    has_suitable_sims = False\n",
        "    top_sim_users = top_sims[user]\n",
        "    for k in range(top_k):\n",
        "        sims_user_uv = sims[top_sim_users[k]][user]\n",
        "        if k < len(top_sim_users) and sims_user_uv > 0:\n",
        "            has_suitable_sims = True\n",
        "            numerator += (data[item][top_sim_users[k]] - average_ratings[top_sim_users[k]])* sims_user_uv\n",
        "            denominator += np.abs(sims_user_uv)\n",
        "    if not has_suitable_sims:\n",
        "      return 0\n",
        "    predict = average_ratings[user]\n",
        "    if denominator != 0:\n",
        "        predict += numerator / denominator\n",
        "    return predict"
      ],
      "metadata": {
        "id": "cIqHHIxsgWGD"
      },
      "execution_count": 11,
      "outputs": []
    },
    {
      "cell_type": "code",
      "source": [
        "def ubcf(data: np.ndarray, data_mask: np.ndarray, n_user: int, n_item: int, top_k: int, test_mask: np.ndarray = None):\n",
        "    big_tic = time.perf_counter()\n",
        "    average_ratings = calc_average_rating(data, data_mask, n_user)\n",
        "\n",
        "    #calculate sims\n",
        "    print(\"calculating sims of all users to each other....\")\n",
        "    sims = np.zeros((n_user, n_user), dtype='float32')\n",
        "    tic = time.perf_counter()\n",
        "    for i in range(n_user - 1):\n",
        "        for j in range(i + 1, n_user):\n",
        "            sims[j][i] = sims[i][j] = calc_user_sim(data, data_mask, average_ratings, n_user, i, j)\n",
        "    toc = time.perf_counter()\n",
        "    duration = toc - tic\n",
        "    print(f\"calculated all sims in {duration:0.2f} seconds | {(duration / 60):0.2f} minutes\")\n",
        "\n",
        "    # sort top sims\n",
        "    print(f\"sorting users with top sim....\")\n",
        "    top_sims = np.empty((n_user, n_user - 1), dtype='int32')\n",
        "    tic = time.perf_counter()\n",
        "    for user in range(n_user):\n",
        "        user_sims = sims[user]\n",
        "        sorted_by_index = sorted(range(len(user_sims)), key=lambda t: user_sims[t], reverse=True)\n",
        "        sorted_by_index.remove(user)\n",
        "        top_sims[user] = sorted_by_index\n",
        "    toc = time.perf_counter()\n",
        "    duration = toc - tic\n",
        "    print(f\"sorted users with top sim in {duration:0.2f} seconds | {(duration / 60):0.2f} minutes\")\n",
        "    print(f\"predicting missing rating values...\")\n",
        "\n",
        "    # predict\n",
        "    tic = time.perf_counter()\n",
        "    rating_predicted = np.zeros((n_item, n_user), dtype='float32')\n",
        "\n",
        "    for user in range(n_user):\n",
        "        for item in range(n_item):\n",
        "            test_mask_based = test_mask is not None\n",
        "            if test_mask_based:\n",
        "              need_calc = test_mask[item][user] == 1\n",
        "            else:\n",
        "              need_calc = data_mask[item][user] == 0\n",
        "            if need_calc:\n",
        "                predict = ubcf_predict_rating(data, sims, top_sims, top_k, item, user, average_ratings)\n",
        "                rating_predicted[item][user] = predict\n",
        "                  \n",
        "\n",
        "    toc = time.perf_counter()\n",
        "    duration = toc - tic\n",
        "    print(f\"ratings value predicted in {duration:0.2f} seconds | {(duration / 60):0.2f} minutes\")\n",
        "    big_toc = time.perf_counter()\n",
        "    big_duration = big_toc - big_tic\n",
        "    print(f\"all processes finished in {big_duration:0.2f} seconds | {(big_duration / 60):0.2f} minutes\")\n",
        "    return rating_predicted, top_sims"
      ],
      "metadata": {
        "id": "1G3GAzxZgY1U"
      },
      "execution_count": 12,
      "outputs": []
    },
    {
      "cell_type": "code",
      "source": [
        "ubcf_predicted, ubcf_tops = ubcf(train_r, train_m, n_u, n_m, 2, test_m)"
      ],
      "metadata": {
        "colab": {
          "base_uri": "https://localhost:8080/"
        },
        "id": "FkxGq1oSghWj",
        "outputId": "678e4ebc-f47e-4dad-933d-c9590f70418d"
      },
      "execution_count": 13,
      "outputs": [
        {
          "output_type": "stream",
          "name": "stdout",
          "text": [
            "calculating sims of all users to each other....\n",
            "calculated all sims in 151.97 seconds | 2.53 minutes\n",
            "sorting users with top sim....\n",
            "sorted users with top sim in 0.40 seconds | 0.01 minutes\n",
            "predicting missing rating values...\n",
            "ratings value predicted in 5.62 seconds | 0.09 minutes\n",
            "all processes finished in 158.04 seconds | 2.63 minutes\n"
          ]
        }
      ]
    },
    {
      "cell_type": "code",
      "source": [
        "ubcf_predicted"
      ],
      "metadata": {
        "id": "8sAfhRUjl1CX",
        "colab": {
          "base_uri": "https://localhost:8080/"
        },
        "outputId": "48de4b7e-6bb2-4da7-f268-b1f5214bc62e"
      },
      "execution_count": 14,
      "outputs": [
        {
          "output_type": "execute_result",
          "data": {
            "text/plain": [
              "array([[0., 0., 0., ..., 0., 0., 0.],\n",
              "       [0., 0., 0., ..., 0., 0., 0.],\n",
              "       [0., 0., 0., ..., 0., 0., 0.],\n",
              "       ...,\n",
              "       [0., 0., 0., ..., 0., 0., 0.],\n",
              "       [0., 0., 0., ..., 0., 0., 0.],\n",
              "       [0., 0., 0., ..., 0., 0., 0.]], dtype=float32)"
            ]
          },
          "metadata": {},
          "execution_count": 14
        }
      ]
    },
    {
      "cell_type": "code",
      "source": [
        "ubcf_predicted.shape"
      ],
      "metadata": {
        "colab": {
          "base_uri": "https://localhost:8080/"
        },
        "id": "HKmsG5HqgpyR",
        "outputId": "826cb653-b2fb-4617-c860-0bdfd1989eba"
      },
      "execution_count": 15,
      "outputs": [
        {
          "output_type": "execute_result",
          "data": {
            "text/plain": [
              "(1682, 943)"
            ]
          },
          "metadata": {},
          "execution_count": 15
        }
      ]
    },
    {
      "cell_type": "code",
      "source": [
        "ubcf_tops"
      ],
      "metadata": {
        "colab": {
          "base_uri": "https://localhost:8080/"
        },
        "id": "rHzP3WKggsJj",
        "outputId": "29ec7cab-4630-49c5-ed4e-d5371f1a236f"
      },
      "execution_count": 16,
      "outputs": [
        {
          "output_type": "execute_result",
          "data": {
            "text/plain": [
              "array([[  3,  38,  46, ..., 810, 855, 872],\n",
              "       [  4,  21,  24, ..., 854, 913, 924],\n",
              "       [  4,  19,  21, ..., 917, 926, 931],\n",
              "       ...,\n",
              "       [  9,  18,  21, ..., 917, 924, 928],\n",
              "       [ 49, 149, 161, ..., 764, 854, 860],\n",
              "       [  2,  73,  77, ..., 914, 919, 925]], dtype=int32)"
            ]
          },
          "metadata": {},
          "execution_count": 16
        }
      ]
    },
    {
      "cell_type": "markdown",
      "source": [
        "## IBCF"
      ],
      "metadata": {
        "id": "rPvkP1pNgQbz"
      }
    },
    {
      "cell_type": "code",
      "source": [
        "def calc_item_sim(data: np.ndarray, data_mask: np.ndarray, average_rating: np.ndarray, n_user: int,\n",
        "             item_i: int,\n",
        "             item_j: int) -> float:\n",
        "    if item_i == item_j:\n",
        "        return -1\n",
        "    common_user = []\n",
        "    for i in range(n_user):\n",
        "        if data_mask[item_i][i] and data_mask[item_j][i]:\n",
        "            common_user.append(i)\n",
        "    if common_user:\n",
        "        numerator = 0.0\n",
        "        denominator_left = 0.0\n",
        "        denominator_right = 0.0\n",
        "        for user in common_user:\n",
        "            numerator += (data[item_i][user] - average_rating[user]) * (data[item_j][user] - average_rating[user])\n",
        "            denominator_left += m.pow(data[item_i][user] - average_rating[user], 2)\n",
        "            denominator_right += m.pow(data[item_j][user] - average_rating[user], 2)\n",
        "        denominator = m.sqrt(denominator_left) * m.sqrt(denominator_right)\n",
        "        if denominator == 0:\n",
        "            denominator = 0.001\n",
        "        return numerator / denominator\n",
        "    else:\n",
        "        return - 1\n"
      ],
      "metadata": {
        "id": "TYwikF3lMZSt"
      },
      "execution_count": 17,
      "outputs": []
    },
    {
      "cell_type": "code",
      "source": [
        "def ibcf_predict_rating(data: np.ndarray, sims: np.ndarray, top_sims: np.ndarray, top_k: int, item: int, user: int) -> float:\n",
        "    numerator = 0.0\n",
        "    denominator = 0.0\n",
        "    has_suitable_sims = False\n",
        "    top_sim_items = top_sims[item]\n",
        "    for k in range(top_k):\n",
        "        sims_item_ij = sims[item][top_sim_items[k]]\n",
        "        if k < len(top_sim_items) and sims_item_ij > 0:\n",
        "            has_suitable_sims = True\n",
        "            numerator += data[top_sim_items[k]][user] * sims_item_ij\n",
        "            denominator += np.abs(sims_item_ij)\n",
        "    if not has_suitable_sims:\n",
        "      return 0\n",
        "    predict = 5\n",
        "    if denominator != 0:\n",
        "        predict = numerator / denominator\n",
        "    return predict"
      ],
      "metadata": {
        "id": "dPc83H_7xDUt"
      },
      "execution_count": 18,
      "outputs": []
    },
    {
      "cell_type": "code",
      "source": [
        "def ibcf(data: np.ndarray, data_mask: np.ndarray,n_user: int, n_item: int, top_k,  test_mask: np.ndarray = None):\n",
        "    big_tic = time.perf_counter()\n",
        "    average_ratings = calc_average_rating(data, data_mask, n_user)\n",
        "\n",
        "    #calculate sims\n",
        "    print(\"calculating sims of all items to each other....\")\n",
        "    sims = np.zeros((n_item, n_item), dtype='float32')\n",
        "    tic = time.perf_counter()\n",
        "    for i in range(n_item - 1):\n",
        "        for j in range(i + 1, n_item):\n",
        "            sims[j][i] = sims[i][j] = calc_item_sim(data, data_mask, average_ratings, n_user, i, j)\n",
        "    toc = time.perf_counter()\n",
        "    duration = toc - tic\n",
        "    print(f\"calculated all sims in {duration:0.2f} seconds | {(duration / 60):0.2f} minutes\")\n",
        "\n",
        "    # sort top sims\n",
        "    print(f\"sorting items with top sim....\")\n",
        "    top_sims = np.empty((n_item, n_item - 1), dtype='int32')\n",
        "    tic = time.perf_counter()\n",
        "    for item in range(n_item):\n",
        "        item_sims = sims[item]\n",
        "        sorted_by_index = sorted(range(len(item_sims)), key=lambda t: item_sims[t], reverse=True)\n",
        "        sorted_by_index.remove(item)\n",
        "        top_sims[item] = sorted_by_index\n",
        "    toc = time.perf_counter()\n",
        "    duration = toc - tic\n",
        "    print(f\"sorted items with top sim in {duration:0.2f} seconds | {(duration / 60):0.2f} minutes\")\n",
        "    print(f\"predicting missing rating values...\")\n",
        "\n",
        "    #predict \n",
        "    tic = time.perf_counter()\n",
        "    rating_predicted = np.zeros((n_item, n_user), dtype='float32')\n",
        "    for item in range(n_item):\n",
        "        for user in range(n_user):\n",
        "            test_mask_based = test_mask is not None\n",
        "            if test_mask_based:\n",
        "              need_calc = test_mask[item][user] == 1\n",
        "            else:\n",
        "              need_calc = data_mask[item][user] == 0\n",
        "            if need_calc:\n",
        "                predict = ibcf_predict_rating(data, sims, top_sims, top_k, item, user)\n",
        "                rating_predicted[item][user] = predict\n",
        "    toc = time.perf_counter()\n",
        "    duration = toc - tic\n",
        "    print(f\"ratings value predicted in {duration:0.2f} seconds | {(duration / 60):0.2f} minutes\")\n",
        "    \n",
        "    big_toc = time.perf_counter()\n",
        "    big_duration = big_toc - big_tic\n",
        "    print(f\"all processes finished in {big_duration:0.2f} seconds | {(big_duration / 60):0.2f} minutes\")\n",
        "    return rating_predicted, top_sims"
      ],
      "metadata": {
        "id": "GHSTDpowDfuX"
      },
      "execution_count": 19,
      "outputs": []
    },
    {
      "cell_type": "code",
      "source": [
        "ibcf_predicted, ibcf_tops = ibcf(train_r, train_m, n_u, n_m, 2, test_m)"
      ],
      "metadata": {
        "id": "nVh64_g9Dj5m",
        "outputId": "022c6ed1-1f08-46a6-a107-0093b914d210",
        "colab": {
          "base_uri": "https://localhost:8080/"
        }
      },
      "execution_count": 20,
      "outputs": [
        {
          "output_type": "stream",
          "name": "stdout",
          "text": [
            "calculating sims of all items to each other....\n",
            "calculated all sims in 431.65 seconds | 7.19 minutes\n",
            "sorting items with top sim....\n",
            "sorted items with top sim in 2.03 seconds | 0.03 minutes\n",
            "predicting missing rating values...\n",
            "ratings value predicted in 4.12 seconds | 0.07 minutes\n",
            "all processes finished in 437.85 seconds | 7.30 minutes\n"
          ]
        }
      ]
    },
    {
      "cell_type": "code",
      "source": [
        "ibcf_predicted"
      ],
      "metadata": {
        "colab": {
          "base_uri": "https://localhost:8080/"
        },
        "id": "ELAf0mcFmxyk",
        "outputId": "24eae9a1-838f-448d-e646-4f9656a3b0a8"
      },
      "execution_count": 21,
      "outputs": [
        {
          "output_type": "execute_result",
          "data": {
            "text/plain": [
              "array([[0., 0., 0., ..., 0., 0., 0.],\n",
              "       [0., 0., 0., ..., 0., 0., 0.],\n",
              "       [0., 0., 0., ..., 0., 0., 0.],\n",
              "       ...,\n",
              "       [0., 0., 0., ..., 0., 0., 0.],\n",
              "       [0., 0., 0., ..., 0., 0., 0.],\n",
              "       [0., 0., 0., ..., 0., 0., 0.]], dtype=float32)"
            ]
          },
          "metadata": {},
          "execution_count": 21
        }
      ]
    },
    {
      "cell_type": "code",
      "source": [
        "ibcf_predicted.shape"
      ],
      "metadata": {
        "colab": {
          "base_uri": "https://localhost:8080/"
        },
        "id": "j-S5MopF47N7",
        "outputId": "62caa301-3325-424e-8daa-fba44fad8470"
      },
      "execution_count": 22,
      "outputs": [
        {
          "output_type": "execute_result",
          "data": {
            "text/plain": [
              "(1682, 943)"
            ]
          },
          "metadata": {},
          "execution_count": 22
        }
      ]
    },
    {
      "cell_type": "code",
      "source": [
        "ibcf_tops"
      ],
      "metadata": {
        "colab": {
          "base_uri": "https://localhost:8080/"
        },
        "id": "lz7iG6n0SFeD",
        "outputId": "89dd406c-dc35-4493-a369-ecf8d9339bad"
      },
      "execution_count": 23,
      "outputs": [
        {
          "output_type": "execute_result",
          "data": {
            "text/plain": [
              "array([[ 340,  359,  438, ..., 1678, 1679, 1681],\n",
              "       [ 112,  295,  307, ..., 1677, 1678, 1679],\n",
              "       [  17,  118,  145, ..., 1678, 1679, 1680],\n",
              "       ...,\n",
              "       [ 258,  291,  298, ..., 1676, 1680, 1681],\n",
              "       [   0,    1,    3, ..., 1678, 1679, 1681],\n",
              "       [   1,    2,    4, ..., 1678, 1679, 1680]], dtype=int32)"
            ]
          },
          "metadata": {},
          "execution_count": 23
        }
      ]
    },
    {
      "cell_type": "markdown",
      "source": [
        "## Evaluation metric"
      ],
      "metadata": {
        "id": "lRJjzaNb-jMy"
      }
    },
    {
      "cell_type": "markdown",
      "source": [
        "### 1/ RMSE"
      ],
      "metadata": {
        "id": "CnKXbAs--nAe"
      }
    },
    {
      "cell_type": "code",
      "source": [
        "rmse(ubcf_predicted, test_r, test_m, n_u, n_m)"
      ],
      "metadata": {
        "colab": {
          "base_uri": "https://localhost:8080/"
        },
        "id": "KsZZlAaBg9GE",
        "outputId": "ea901758-76ba-4123-e1bb-8d876cc0aab4"
      },
      "execution_count": 24,
      "outputs": [
        {
          "output_type": "execute_result",
          "data": {
            "text/plain": [
              "3.697425"
            ]
          },
          "metadata": {},
          "execution_count": 24
        }
      ]
    },
    {
      "cell_type": "code",
      "source": [
        "rmse(ibcf_predicted, test_r, test_m, n_u, n_m)"
      ],
      "metadata": {
        "colab": {
          "base_uri": "https://localhost:8080/"
        },
        "id": "JPzOHxkK9mHq",
        "outputId": "04988b8f-a3dc-4b13-9f0f-cf8fc03a5c18"
      },
      "execution_count": 25,
      "outputs": [
        {
          "output_type": "execute_result",
          "data": {
            "text/plain": [
              "3.66814"
            ]
          },
          "metadata": {},
          "execution_count": 25
        }
      ]
    },
    {
      "cell_type": "markdown",
      "source": [
        "### 2/ NDCG"
      ],
      "metadata": {
        "id": "ObJ5g6py-qkW"
      }
    },
    {
      "cell_type": "markdown",
      "source": [
        "#### Version 1: Compute NDCG on merged dataset, included train, test and predicted dataset"
      ],
      "metadata": {
        "id": "VVeNgflT-xzH"
      }
    },
    {
      "cell_type": "code",
      "source": [
        "def ndcg(i_rating, p_rating, k = None):\n",
        "  upper = k\n",
        "  if not upper or k > len(i_rating):\n",
        "    upper = len(i_rating)\n",
        "  idcg = 0.0\n",
        "  dcg = 0.0\n",
        "  for i in range(0, upper):\n",
        "    idcg += i_rating[i] / m.log(i+2)\n",
        "    dcg += p_rating[i] / m.log(i+2)\n",
        "  if idcg == 0:\n",
        "    return 0  \n",
        "  return dcg / idcg"
      ],
      "metadata": {
        "id": "PZTX6nv9W5aL"
      },
      "execution_count": 26,
      "outputs": []
    },
    {
      "cell_type": "code",
      "source": [
        "def ordered_items_by_rating(data: np.ndarray, n_user:int, n_item:int):\n",
        "  ordered = np.empty((n_user, n_item), dtype='int32')\n",
        "  for user in range(n_user):\n",
        "    items_ratings = data[:, user]\n",
        "    sorted_by_index = sorted(range(len(items_ratings)), key=lambda t: items_ratings[t], reverse=True)\n",
        "    ordered[user] = sorted_by_index\n",
        "  return ordered\n"
      ],
      "metadata": {
        "id": "qng8AnZgbirm"
      },
      "execution_count": 27,
      "outputs": []
    },
    {
      "cell_type": "code",
      "source": [
        "def merge_data(data : np.ndarray, data_mask : np.ndarray, fill:np.ndarray, fill_mask :np.ndarray, n_user:int, n_item : int):\n",
        "  merged = np.copy(data)\n",
        "  for item in range(n_item):\n",
        "    for user in range(n_user):\n",
        "      if not data_mask[item][user] and fill_mask[item][user]:\n",
        "        merged[item][user] = fill[item][user] \n",
        "  return merged\n"
      ],
      "metadata": {
        "id": "SE_7gSRdY2lt"
      },
      "execution_count": 28,
      "outputs": []
    },
    {
      "cell_type": "code",
      "source": [
        "def calc_ndcgs(idea_items_order: np.ndarray, predicted_items_order: np.ndarray, data:np.ndarray,data_mask: np.ndarray ,n_user:int, n_item:int, k = None):\n",
        "  ndcgs = np.zeros(n_user)\n",
        "  for user in range(n_user):\n",
        "    true_rating = []\n",
        "    pred_rating = []\n",
        "    for item in range(n_item):\n",
        "      idea_item_index = idea_items_order[user][item]\n",
        "      predicted_item_index = predicted_items_order[user][item]\n",
        "      if data_mask[idea_item_index][user] == 0:\n",
        "        continue\n",
        "      true_rating.append(data[idea_item_index][user])\n",
        "      pred_rating.append(data[predicted_item_index][user])\n",
        "    ndcgs[user] = ndcg(true_rating, pred_rating, k)\n",
        "  return ndcgs"
      ],
      "metadata": {
        "id": "YwBK19njfNfM"
      },
      "execution_count": 29,
      "outputs": []
    },
    {
      "cell_type": "markdown",
      "source": [
        "merge full dataset"
      ],
      "metadata": {
        "id": "Kn8O-RQNCt8X"
      }
    },
    {
      "cell_type": "code",
      "source": [
        "merged_data_full = merge_data(train_r, train_m, test_r, test_m, n_u, n_m)\n",
        "merged_data_full_m = np.greater(merged_data_full, 1e-12)"
      ],
      "metadata": {
        "id": "2EuZl-GTauk4"
      },
      "execution_count": 30,
      "outputs": []
    },
    {
      "cell_type": "code",
      "source": [
        "merged_data_full_m.sum()"
      ],
      "metadata": {
        "colab": {
          "base_uri": "https://localhost:8080/"
        },
        "id": "q8b1ZhggbdFW",
        "outputId": "5dba698a-1b43-4bb8-ceff-89934f9b2968"
      },
      "execution_count": 31,
      "outputs": [
        {
          "output_type": "execute_result",
          "data": {
            "text/plain": [
              "100000"
            ]
          },
          "metadata": {},
          "execution_count": 31
        }
      ]
    },
    {
      "cell_type": "code",
      "source": [
        "idea_order = ordered_items_by_rating(merged_data_full, n_u, n_m)"
      ],
      "metadata": {
        "id": "3dGul7vjbeon"
      },
      "execution_count": 32,
      "outputs": []
    },
    {
      "cell_type": "code",
      "source": [
        "idea_order"
      ],
      "metadata": {
        "colab": {
          "base_uri": "https://localhost:8080/"
        },
        "id": "W-83PuP3oRCq",
        "outputId": "ff399705-3133-424f-f6e1-9346f82654bd"
      },
      "execution_count": 33,
      "outputs": [
        {
          "output_type": "execute_result",
          "data": {
            "text/plain": [
              "array([[   0,    5,    8, ..., 1679, 1680, 1681],\n",
              "       [  49,   99,  126, ..., 1679, 1680, 1681],\n",
              "       [ 319,  320,  327, ..., 1679, 1680, 1681],\n",
              "       ...,\n",
              "       [   0,  116,  123, ..., 1679, 1680, 1681],\n",
              "       [  30,   49,   70, ..., 1679, 1680, 1681],\n",
              "       [   1,   11,   41, ..., 1679, 1680, 1681]], dtype=int32)"
            ]
          },
          "metadata": {},
          "execution_count": 33
        }
      ]
    },
    {
      "cell_type": "markdown",
      "source": [
        "NDCG on UBCF prediction"
      ],
      "metadata": {
        "id": "RIPe-tiiCzPj"
      }
    },
    {
      "cell_type": "code",
      "source": [
        "merged_data_pred_ubcf = merge_data(train_r, train_m, ubcf_predicted, test_m, n_u, n_m)\n",
        "ubcf_pred_order = ordered_items_by_rating(merged_data_pred_ubcf, n_u, n_m)"
      ],
      "metadata": {
        "id": "0fDcyCKWd_V-"
      },
      "execution_count": 34,
      "outputs": []
    },
    {
      "cell_type": "code",
      "source": [
        "ubcf_pred_order"
      ],
      "metadata": {
        "colab": {
          "base_uri": "https://localhost:8080/"
        },
        "id": "tuKoodmweWgY",
        "outputId": "f1e83407-3a70-4ed7-c9c4-c93c7237e7af"
      },
      "execution_count": 35,
      "outputs": [
        {
          "output_type": "execute_result",
          "data": {
            "text/plain": [
              "array([[   0,    8,   12, ...,  264,  265,  266],\n",
              "       [  49,   99,  126, ..., 1679, 1680, 1681],\n",
              "       [ 319,  320,  339, ...,  349,  350,  353],\n",
              "       ...,\n",
              "       [   0,  116,  123, ..., 1679, 1680, 1681],\n",
              "       [  30,   49,   70, ..., 1679, 1680, 1681],\n",
              "       [   1,   11,   41, ..., 1679, 1680, 1681]], dtype=int32)"
            ]
          },
          "metadata": {},
          "execution_count": 35
        }
      ]
    },
    {
      "cell_type": "code",
      "source": [
        "calculated_ndcgs = calc_ndcgs(idea_order, ubcf_pred_order, merged_data_full, merged_data_full_m, n_u, n_m, 100)"
      ],
      "metadata": {
        "id": "0LRDbtTLhIRz"
      },
      "execution_count": 36,
      "outputs": []
    },
    {
      "cell_type": "code",
      "source": [
        "calculated_ndcgs.shape"
      ],
      "metadata": {
        "colab": {
          "base_uri": "https://localhost:8080/"
        },
        "id": "bx071ZohkhFM",
        "outputId": "39569678-ab95-4192-fc73-c5745ad7bf84"
      },
      "execution_count": 37,
      "outputs": [
        {
          "output_type": "execute_result",
          "data": {
            "text/plain": [
              "(943,)"
            ]
          },
          "metadata": {},
          "execution_count": 37
        }
      ]
    },
    {
      "cell_type": "code",
      "source": [
        "calculated_ndcgs[:10]"
      ],
      "metadata": {
        "colab": {
          "base_uri": "https://localhost:8080/"
        },
        "id": "DOig8T_Lkp5N",
        "outputId": "f6d97da4-2f37-4b50-fc93-8a8502966ab2"
      },
      "execution_count": 38,
      "outputs": [
        {
          "output_type": "execute_result",
          "data": {
            "text/plain": [
              "array([0.91862532, 0.99074315, 0.70053057, 0.99112671, 0.79136926,\n",
              "       0.889439  , 0.96915564, 0.97348977, 0.73997092, 0.93457733])"
            ]
          },
          "metadata": {},
          "execution_count": 38
        }
      ]
    },
    {
      "cell_type": "markdown",
      "source": [
        "NDCG on IBCF prediction"
      ],
      "metadata": {
        "id": "T84PYd4CC3Xf"
      }
    },
    {
      "cell_type": "code",
      "source": [
        "merged_data_pred_ibcf = merge_data(train_r, train_m, ibcf_predicted, test_m, n_u, n_m)\n",
        "ibcf_pred_order = ordered_items_by_rating(merged_data_pred_ibcf, n_u, n_m)"
      ],
      "metadata": {
        "id": "C3RXmWAngHC_"
      },
      "execution_count": 39,
      "outputs": []
    },
    {
      "cell_type": "code",
      "source": [
        "ibcf_pred_order"
      ],
      "metadata": {
        "colab": {
          "base_uri": "https://localhost:8080/"
        },
        "id": "kIs6ofc4k3IT",
        "outputId": "557195ae-7816-4eb7-ed02-a9c59e90698c"
      },
      "execution_count": 40,
      "outputs": [
        {
          "output_type": "execute_result",
          "data": {
            "text/plain": [
              "array([[   0,    8,   12, ..., 1679, 1680, 1681],\n",
              "       [  99,  126,  241, ..., 1679, 1680, 1681],\n",
              "       [ 319,  320,  339, ..., 1679, 1680, 1681],\n",
              "       ...,\n",
              "       [   0,  116,  123, ..., 1679, 1680, 1681],\n",
              "       [  30,   49,   70, ..., 1679, 1680, 1681],\n",
              "       [   1,   11,   41, ..., 1679, 1680, 1681]], dtype=int32)"
            ]
          },
          "metadata": {},
          "execution_count": 40
        }
      ]
    },
    {
      "cell_type": "code",
      "source": [
        "calculated_ndcgs_ibcf = calc_ndcgs(idea_order, ibcf_pred_order, merged_data_full, merged_data_full_m, n_u, n_m, 100)\n"
      ],
      "metadata": {
        "id": "zlqlCw6XlHKY"
      },
      "execution_count": 41,
      "outputs": []
    },
    {
      "cell_type": "code",
      "source": [
        "calculated_ndcgs_ibcf.shape\n"
      ],
      "metadata": {
        "colab": {
          "base_uri": "https://localhost:8080/"
        },
        "id": "fkdXKQSBlIj4",
        "outputId": "a2109995-9081-4b19-ac47-4ffa72f9cfde"
      },
      "execution_count": 42,
      "outputs": [
        {
          "output_type": "execute_result",
          "data": {
            "text/plain": [
              "(943,)"
            ]
          },
          "metadata": {},
          "execution_count": 42
        }
      ]
    },
    {
      "cell_type": "code",
      "source": [
        "calculated_ndcgs_ibcf[:10]"
      ],
      "metadata": {
        "colab": {
          "base_uri": "https://localhost:8080/"
        },
        "id": "BNXQh80IlJ2W",
        "outputId": "11a3ec6c-1a2f-4810-c50b-80b90ded2afe"
      },
      "execution_count": 43,
      "outputs": [
        {
          "output_type": "execute_result",
          "data": {
            "text/plain": [
              "array([0.92024455, 0.77879817, 0.69114239, 0.71332149, 0.78681996,\n",
              "       0.88462275, 0.96915564, 0.65479985, 0.70496602, 0.9237595 ])"
            ]
          },
          "metadata": {},
          "execution_count": 43
        }
      ]
    },
    {
      "cell_type": "markdown",
      "source": [
        "#### Version 2: Compute NDCG on just test and prediction dataset"
      ],
      "metadata": {
        "id": "_3uk_r3sC722"
      }
    },
    {
      "cell_type": "code",
      "source": [
        "def ordered_item_by_rating(rating: np.ndarray):\n",
        "  item_ordered = []\n",
        "  for i in range(len(rating.T)):\n",
        "    list_rated_item = [j for j in range(len(rating.T[i])) if rating.T[i][j] != 0]\n",
        "    if not list_rated_item: sorted_item = []\n",
        "    else:\n",
        "      list_rating = [rating.T[i][item] for item in list_rated_item]\n",
        "      sorted_item = [item for _, item in sorted(zip(list_rating, list_rated_item),reverse=True)]\n",
        "    item_ordered.append(np.array(sorted_item))\n",
        "  return np.array(item_ordered)"
      ],
      "metadata": {
        "id": "BdvpERKa38lC"
      },
      "execution_count": 44,
      "outputs": []
    },
    {
      "cell_type": "code",
      "source": [
        "def ndcg(true_idea_rating_ordered, true_rating_ordered_by_recommender, k = None):\n",
        "  upper = len(true_rating_ordered_by_recommender)\n",
        "  if k and k < upper: upper = k\n",
        "  idcg = 0.0\n",
        "  dcg = 0.0\n",
        "  for i in range(0, upper):\n",
        "    idcg += true_idea_rating_ordered[i] / m.log(i+2)\n",
        "    dcg += true_rating_ordered_by_recommender[i] / m.log(i+2)\n",
        "  if idcg == 0:\n",
        "    return 0\n",
        "  return dcg / idcg"
      ],
      "metadata": {
        "id": "lKPWniFhs_ft"
      },
      "execution_count": 45,
      "outputs": []
    },
    {
      "cell_type": "code",
      "source": [
        "def calc_ndcgs(real_rating: np.ndarray, idea_items_ordered: np.ndarray, pred_item_ordered: np.ndarray, n_users: int, k = None):\n",
        "  ndcgs = []\n",
        "  for i in range(n_users):\n",
        "    true_idea_rating_ordered = [real_rating.T[i][item] for item in idea_items_ordered[i]]\n",
        "    if true_idea_rating_ordered:\n",
        "      true_rating_ordered_by_recommender = [real_rating.T[i][item] for item in pred_item_ordered[i]]\n",
        "      ndcgs.append(ndcg(true_idea_rating_ordered,true_rating_ordered_by_recommender,k))\n",
        "  return np.array(ndcgs)"
      ],
      "metadata": {
        "id": "EYmKQ6NNuYEz"
      },
      "execution_count": 46,
      "outputs": []
    },
    {
      "cell_type": "markdown",
      "source": [
        "NCDG on UBCF prediction"
      ],
      "metadata": {
        "id": "Js2PtwlQDmVh"
      }
    },
    {
      "cell_type": "code",
      "source": [
        "idea_item_ordered = ordered_item_by_rating(test_r)\n",
        "pred_item_ordered = ordered_item_by_rating(ubcf_predicted)"
      ],
      "metadata": {
        "colab": {
          "base_uri": "https://localhost:8080/"
        },
        "id": "JMH1ycSe62Vn",
        "outputId": "4544cfb4-893b-4f1d-85af-2c692e8fbfb2"
      },
      "execution_count": 47,
      "outputs": [
        {
          "output_type": "stream",
          "name": "stderr",
          "text": [
            "<ipython-input-44-d298ff7e8b3d>:10: VisibleDeprecationWarning: Creating an ndarray from ragged nested sequences (which is a list-or-tuple of lists-or-tuples-or ndarrays with different lengths or shapes) is deprecated. If you meant to do this, you must specify 'dtype=object' when creating the ndarray.\n",
            "  return np.array(item_ordered)\n"
          ]
        }
      ]
    },
    {
      "cell_type": "code",
      "source": [
        "ndcgs = calc_ndcgs(test_r,idea_item_ordered, pred_item_ordered,n_u,5)\n",
        "ndcgs[:10]"
      ],
      "metadata": {
        "id": "87yTKvke9BVV",
        "colab": {
          "base_uri": "https://localhost:8080/"
        },
        "outputId": "f57e3d81-329b-45df-a0c6-5dadd4f6f7c5"
      },
      "execution_count": 48,
      "outputs": [
        {
          "output_type": "execute_result",
          "data": {
            "text/plain": [
              "array([0.75519297, 0.7964244 , 0.61321538, 0.89877541, 0.59971992,\n",
              "       0.61008746, 0.75515624, 0.78022776, 0.8474996 , 0.73216796])"
            ]
          },
          "metadata": {},
          "execution_count": 48
        }
      ]
    },
    {
      "cell_type": "markdown",
      "source": [
        "NDCG on IBCF prediciton"
      ],
      "metadata": {
        "id": "Mqz-qtfIDwBs"
      }
    },
    {
      "cell_type": "code",
      "source": [
        "idea_item_ordered = ordered_item_by_rating(test_r)\n",
        "pred_item_ordered = ordered_item_by_rating(ibcf_predicted)"
      ],
      "metadata": {
        "colab": {
          "base_uri": "https://localhost:8080/"
        },
        "id": "_KqHV3UHDx8M",
        "outputId": "94cf87c2-68d8-486f-cf6f-38c1a6275e6c"
      },
      "execution_count": 49,
      "outputs": [
        {
          "output_type": "stream",
          "name": "stderr",
          "text": [
            "<ipython-input-44-d298ff7e8b3d>:10: VisibleDeprecationWarning: Creating an ndarray from ragged nested sequences (which is a list-or-tuple of lists-or-tuples-or ndarrays with different lengths or shapes) is deprecated. If you meant to do this, you must specify 'dtype=object' when creating the ndarray.\n",
            "  return np.array(item_ordered)\n"
          ]
        }
      ]
    },
    {
      "cell_type": "code",
      "source": [
        "ndcgs = calc_ndcgs(test_r,idea_item_ordered, pred_item_ordered,n_u,5)\n",
        "ndcgs[:10]"
      ],
      "metadata": {
        "colab": {
          "base_uri": "https://localhost:8080/"
        },
        "id": "ZYVP9gZSDzHQ",
        "outputId": "22ada0e5-fe1a-49a6-8af7-b5733e7da3e5"
      },
      "execution_count": 50,
      "outputs": [
        {
          "output_type": "execute_result",
          "data": {
            "text/plain": [
              "array([0.61265743, 0.        , 0.        , 0.        , 0.        ,\n",
              "       0.95307213, 0.87968593, 1.        , 0.        , 0.70614425])"
            ]
          },
          "metadata": {},
          "execution_count": 50
        }
      ]
    }
  ]
}