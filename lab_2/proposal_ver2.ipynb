{
  "cells": [
    {
      "cell_type": "code",
      "execution_count": 1,
      "metadata": {
        "colab": {
          "base_uri": "https://localhost:8080/"
        },
        "id": "pGWv0q1kb8Vv",
        "outputId": "b09aefe8-d7d9-4d1c-e0a9-ed37bf81a7cb"
      },
      "outputs": [],
      "source": [
        "from sklearn.feature_extraction.text import TfidfVectorizer\n",
        "from sklearn.model_selection import train_test_split\n",
        "from sklearn.ensemble import RandomForestClassifier\n",
        "from sklearn.ensemble import GradientBoostingClassifier\n",
        "from sklearn.linear_model import LogisticRegression\n",
        "from sklearn import utils\n",
        "from sklearn.metrics import classification_report, accuracy_score\n",
        "import pandas as pd\n",
        "\n",
        "import multiprocessing\n",
        "cores = multiprocessing.cpu_count()\n",
        "from tqdm import tqdm\n",
        "tqdm.pandas(desc=\"progress-bar\")\n",
        "import nltk\n",
        "from gensim.models import Doc2Vec\n",
        "from gensim.models.doc2vec import TaggedDocument"
      ]
    },
    {
      "cell_type": "code",
      "execution_count": 2,
      "metadata": {
        "colab": {
          "base_uri": "https://localhost:8080/",
          "height": 320
        },
        "id": "yoTIym_qcUhH",
        "outputId": "a9f27640-fc77-4317-af23-fb9e698482b7"
      },
      "outputs": [
        {
          "data": {
            "text/html": [
              "<div>\n",
              "<style scoped>\n",
              "    .dataframe tbody tr th:only-of-type {\n",
              "        vertical-align: middle;\n",
              "    }\n",
              "\n",
              "    .dataframe tbody tr th {\n",
              "        vertical-align: top;\n",
              "    }\n",
              "\n",
              "    .dataframe thead th {\n",
              "        text-align: right;\n",
              "    }\n",
              "</style>\n",
              "<table border=\"1\" class=\"dataframe\">\n",
              "  <thead>\n",
              "    <tr style=\"text-align: right;\">\n",
              "      <th></th>\n",
              "      <th>review</th>\n",
              "      <th>cleaned_review</th>\n",
              "      <th>pos_tagged</th>\n",
              "      <th>lemma</th>\n",
              "      <th>lemma_words</th>\n",
              "      <th>polarity</th>\n",
              "    </tr>\n",
              "  </thead>\n",
              "  <tbody>\n",
              "    <tr>\n",
              "      <th>0</th>\n",
              "      <td>It is now past 1 PM and I just finished watchi...</td>\n",
              "      <td>It is now past PM and I just finished watching...</td>\n",
              "      <td>[('past', 'a'), ('PM', 'n'), ('finished', 'v')...</td>\n",
              "      <td>past PM finish watch Francis Ford Coppola Go...</td>\n",
              "      <td>['past', 'PM', 'finish', 'watch', 'Francis', '...</td>\n",
              "      <td>negative</td>\n",
              "    </tr>\n",
              "    <tr>\n",
              "      <th>1</th>\n",
              "      <td>I should probably go to bed.</td>\n",
              "      <td>I should probably go to bed</td>\n",
              "      <td>[('probably', 'r'), ('go', 'v'), ('bed', 'v')]</td>\n",
              "      <td>probably go bed</td>\n",
              "      <td>['probably', 'go', 'bed']</td>\n",
              "      <td>neutral</td>\n",
              "    </tr>\n",
              "    <tr>\n",
              "      <th>2</th>\n",
              "      <td>It's late and tomorrow I have to wake up a bit...</td>\n",
              "      <td>It s late and tomorrow I have to wake up a bit...</td>\n",
              "      <td>[('late', 'a'), ('tomorrow', 'n'), ('wake', 'v...</td>\n",
              "      <td>late tomorrow wake bit early</td>\n",
              "      <td>['late', 'tomorrow', 'wake', 'bit', 'early']</td>\n",
              "      <td>neutral</td>\n",
              "    </tr>\n",
              "    <tr>\n",
              "      <th>3</th>\n",
              "      <td>But not early enough to postpone writing these...</td>\n",
              "      <td>But not early enough to postpone writing these...</td>\n",
              "      <td>[('early', 'r'), ('enough', 'r'), ('postpone',...</td>\n",
              "      <td>early enough postpone write line</td>\n",
              "      <td>['early', 'enough', 'postpone', 'write', 'line']</td>\n",
              "      <td>positive</td>\n",
              "    </tr>\n",
              "    <tr>\n",
              "      <th>4</th>\n",
              "      <td>Now that I have seen it three times, the oppor...</td>\n",
              "      <td>Now that I have seen it three times the opport...</td>\n",
              "      <td>[('seen', 'v'), ('three', None), ('times', 'v'...</td>\n",
              "      <td>see three time opportunity share thought ref...</td>\n",
              "      <td>['see', 'three', 'time', 'opportunity', 'share...</td>\n",
              "      <td>positive</td>\n",
              "    </tr>\n",
              "  </tbody>\n",
              "</table>\n",
              "</div>"
            ],
            "text/plain": [
              "                                              review  \\\n",
              "0  It is now past 1 PM and I just finished watchi...   \n",
              "1                       I should probably go to bed.   \n",
              "2  It's late and tomorrow I have to wake up a bit...   \n",
              "3  But not early enough to postpone writing these...   \n",
              "4  Now that I have seen it three times, the oppor...   \n",
              "\n",
              "                                      cleaned_review  \\\n",
              "0  It is now past PM and I just finished watching...   \n",
              "1                       I should probably go to bed    \n",
              "2  It s late and tomorrow I have to wake up a bit...   \n",
              "3  But not early enough to postpone writing these...   \n",
              "4  Now that I have seen it three times the opport...   \n",
              "\n",
              "                                          pos_tagged  \\\n",
              "0  [('past', 'a'), ('PM', 'n'), ('finished', 'v')...   \n",
              "1     [('probably', 'r'), ('go', 'v'), ('bed', 'v')]   \n",
              "2  [('late', 'a'), ('tomorrow', 'n'), ('wake', 'v...   \n",
              "3  [('early', 'r'), ('enough', 'r'), ('postpone',...   \n",
              "4  [('seen', 'v'), ('three', None), ('times', 'v'...   \n",
              "\n",
              "                                               lemma  \\\n",
              "0    past PM finish watch Francis Ford Coppola Go...   \n",
              "1                                    probably go bed   \n",
              "2                       late tomorrow wake bit early   \n",
              "3                   early enough postpone write line   \n",
              "4    see three time opportunity share thought ref...   \n",
              "\n",
              "                                         lemma_words  polarity  \n",
              "0  ['past', 'PM', 'finish', 'watch', 'Francis', '...  negative  \n",
              "1                          ['probably', 'go', 'bed']   neutral  \n",
              "2       ['late', 'tomorrow', 'wake', 'bit', 'early']   neutral  \n",
              "3   ['early', 'enough', 'postpone', 'write', 'line']  positive  \n",
              "4  ['see', 'three', 'time', 'opportunity', 'share...  positive  "
            ]
          },
          "execution_count": 2,
          "metadata": {},
          "output_type": "execute_result"
        }
      ],
      "source": [
        "data = pd.read_csv('labeled_data.csv', engine='python')\n",
        "data.head()"
      ]
    },
    {
      "cell_type": "code",
      "execution_count": 3,
      "metadata": {
        "colab": {
          "base_uri": "https://localhost:8080/",
          "height": 424
        },
        "id": "oLuQseXgc23B",
        "outputId": "683e691f-15d7-479a-d65c-935b0974fdec"
      },
      "outputs": [
        {
          "data": {
            "text/html": [
              "<div>\n",
              "<style scoped>\n",
              "    .dataframe tbody tr th:only-of-type {\n",
              "        vertical-align: middle;\n",
              "    }\n",
              "\n",
              "    .dataframe tbody tr th {\n",
              "        vertical-align: top;\n",
              "    }\n",
              "\n",
              "    .dataframe thead th {\n",
              "        text-align: right;\n",
              "    }\n",
              "</style>\n",
              "<table border=\"1\" class=\"dataframe\">\n",
              "  <thead>\n",
              "    <tr style=\"text-align: right;\">\n",
              "      <th></th>\n",
              "      <th>lemma</th>\n",
              "      <th>lemma_words</th>\n",
              "      <th>polarity</th>\n",
              "    </tr>\n",
              "  </thead>\n",
              "  <tbody>\n",
              "    <tr>\n",
              "      <th>0</th>\n",
              "      <td>past PM finish watch Francis Ford Coppola Go...</td>\n",
              "      <td>['past', 'PM', 'finish', 'watch', 'Francis', '...</td>\n",
              "      <td>negative</td>\n",
              "    </tr>\n",
              "    <tr>\n",
              "      <th>1</th>\n",
              "      <td>probably go bed</td>\n",
              "      <td>['probably', 'go', 'bed']</td>\n",
              "      <td>neutral</td>\n",
              "    </tr>\n",
              "    <tr>\n",
              "      <th>2</th>\n",
              "      <td>late tomorrow wake bit early</td>\n",
              "      <td>['late', 'tomorrow', 'wake', 'bit', 'early']</td>\n",
              "      <td>neutral</td>\n",
              "    </tr>\n",
              "    <tr>\n",
              "      <th>3</th>\n",
              "      <td>early enough postpone write line</td>\n",
              "      <td>['early', 'enough', 'postpone', 'write', 'line']</td>\n",
              "      <td>positive</td>\n",
              "    </tr>\n",
              "    <tr>\n",
              "      <th>4</th>\n",
              "      <td>see three time opportunity share thought ref...</td>\n",
              "      <td>['see', 'three', 'time', 'opportunity', 'share...</td>\n",
              "      <td>positive</td>\n",
              "    </tr>\n",
              "    <tr>\n",
              "      <th>...</th>\n",
              "      <td>...</td>\n",
              "      <td>...</td>\n",
              "      <td>...</td>\n",
              "    </tr>\n",
              "    <tr>\n",
              "      <th>181911</th>\n",
              "      <td>Yes</td>\n",
              "      <td>['Yes']</td>\n",
              "      <td>NaN</td>\n",
              "    </tr>\n",
              "    <tr>\n",
              "      <th>181912</th>\n",
              "      <td>best way possible</td>\n",
              "      <td>['best', 'way', 'possible']</td>\n",
              "      <td>positive</td>\n",
              "    </tr>\n",
              "    <tr>\n",
              "      <th>181913</th>\n",
              "      <td>Troll II classic</td>\n",
              "      <td>['Troll', 'II', 'classic']</td>\n",
              "      <td>positive</td>\n",
              "    </tr>\n",
              "    <tr>\n",
              "      <th>181914</th>\n",
              "      <td>Joshua family take trip Nilbog unbeknown kin...</td>\n",
              "      <td>['Joshua', 'family', 'take', 'trip', 'Nilbog',...</td>\n",
              "      <td>negative</td>\n",
              "    </tr>\n",
              "    <tr>\n",
              "      <th>181915</th>\n",
              "      <td>mother plain disturb upstart never see perso...</td>\n",
              "      <td>['mother', 'plain', 'disturb', 'upstart', 'nev...</td>\n",
              "      <td>positive</td>\n",
              "    </tr>\n",
              "  </tbody>\n",
              "</table>\n",
              "<p>181916 rows × 3 columns</p>\n",
              "</div>"
            ],
            "text/plain": [
              "                                                    lemma  \\\n",
              "0         past PM finish watch Francis Ford Coppola Go...   \n",
              "1                                         probably go bed   \n",
              "2                            late tomorrow wake bit early   \n",
              "3                        early enough postpone write line   \n",
              "4         see three time opportunity share thought ref...   \n",
              "...                                                   ...   \n",
              "181911                                                Yes   \n",
              "181912                                  best way possible   \n",
              "181913                                   Troll II classic   \n",
              "181914    Joshua family take trip Nilbog unbeknown kin...   \n",
              "181915    mother plain disturb upstart never see perso...   \n",
              "\n",
              "                                              lemma_words  polarity  \n",
              "0       ['past', 'PM', 'finish', 'watch', 'Francis', '...  negative  \n",
              "1                               ['probably', 'go', 'bed']   neutral  \n",
              "2            ['late', 'tomorrow', 'wake', 'bit', 'early']   neutral  \n",
              "3        ['early', 'enough', 'postpone', 'write', 'line']  positive  \n",
              "4       ['see', 'three', 'time', 'opportunity', 'share...  positive  \n",
              "...                                                   ...       ...  \n",
              "181911                                            ['Yes']       NaN  \n",
              "181912                        ['best', 'way', 'possible']  positive  \n",
              "181913                         ['Troll', 'II', 'classic']  positive  \n",
              "181914  ['Joshua', 'family', 'take', 'trip', 'Nilbog',...  negative  \n",
              "181915  ['mother', 'plain', 'disturb', 'upstart', 'nev...  positive  \n",
              "\n",
              "[181916 rows x 3 columns]"
            ]
          },
          "execution_count": 3,
          "metadata": {},
          "output_type": "execute_result"
        }
      ],
      "source": [
        "data = data[['lemma','lemma_words','polarity']]\n",
        "data"
      ]
    },
    {
      "cell_type": "code",
      "execution_count": 4,
      "metadata": {
        "id": "ZzR-OuulgrS-"
      },
      "outputs": [],
      "source": [
        "data_each_polarity = 40000"
      ]
    },
    {
      "cell_type": "code",
      "execution_count": 5,
      "metadata": {
        "colab": {
          "base_uri": "https://localhost:8080/",
          "height": 424
        },
        "id": "I_j6EkwwgqBv",
        "outputId": "bc4428d1-1078-444f-bc8a-f369670ce9ed"
      },
      "outputs": [
        {
          "data": {
            "text/html": [
              "<div>\n",
              "<style scoped>\n",
              "    .dataframe tbody tr th:only-of-type {\n",
              "        vertical-align: middle;\n",
              "    }\n",
              "\n",
              "    .dataframe tbody tr th {\n",
              "        vertical-align: top;\n",
              "    }\n",
              "\n",
              "    .dataframe thead th {\n",
              "        text-align: right;\n",
              "    }\n",
              "</style>\n",
              "<table border=\"1\" class=\"dataframe\">\n",
              "  <thead>\n",
              "    <tr style=\"text-align: right;\">\n",
              "      <th></th>\n",
              "      <th>lemma</th>\n",
              "      <th>lemma_words</th>\n",
              "      <th>polarity</th>\n",
              "    </tr>\n",
              "  </thead>\n",
              "  <tbody>\n",
              "    <tr>\n",
              "      <th>34272</th>\n",
              "      <td>classic Scorsese moment favorite scene DiCap...</td>\n",
              "      <td>['classic', 'Scorsese', 'moment', 'favorite', ...</td>\n",
              "      <td>positive</td>\n",
              "    </tr>\n",
              "    <tr>\n",
              "      <th>126018</th>\n",
              "      <td>gore zombie look fake zombie suppose smart e...</td>\n",
              "      <td>['gore', 'zombie', 'look', 'fake', 'zombie', '...</td>\n",
              "      <td>positive</td>\n",
              "    </tr>\n",
              "    <tr>\n",
              "      <th>88491</th>\n",
              "      <td>movie make stop think think go buy ticket wa...</td>\n",
              "      <td>['movie', 'make', 'stop', 'think', 'think', 'g...</td>\n",
              "      <td>positive</td>\n",
              "    </tr>\n",
              "    <tr>\n",
              "      <th>105346</th>\n",
              "      <td>review helpful</td>\n",
              "      <td>['review', 'helpful']</td>\n",
              "      <td>positive</td>\n",
              "    </tr>\n",
              "    <tr>\n",
              "      <th>52657</th>\n",
              "      <td>watch tonight</td>\n",
              "      <td>['watch', 'tonight']</td>\n",
              "      <td>positive</td>\n",
              "    </tr>\n",
              "    <tr>\n",
              "      <th>...</th>\n",
              "      <td>...</td>\n",
              "      <td>...</td>\n",
              "      <td>...</td>\n",
              "    </tr>\n",
              "    <tr>\n",
              "      <th>91247</th>\n",
              "      <td>even see trailer yet</td>\n",
              "      <td>['even', 'see', 'trailer', 'yet']</td>\n",
              "      <td>positive</td>\n",
              "    </tr>\n",
              "    <tr>\n",
              "      <th>158882</th>\n",
              "      <td>guess character suppose persuasive</td>\n",
              "      <td>['guess', 'character', 'suppose', 'persuasive']</td>\n",
              "      <td>positive</td>\n",
              "    </tr>\n",
              "    <tr>\n",
              "      <th>24519</th>\n",
              "      <td>review helpful</td>\n",
              "      <td>['review', 'helpful']</td>\n",
              "      <td>positive</td>\n",
              "    </tr>\n",
              "    <tr>\n",
              "      <th>86399</th>\n",
              "      <td>realize drug end even beautiful dream charac...</td>\n",
              "      <td>['realize', 'drug', 'end', 'even', 'beautiful'...</td>\n",
              "      <td>positive</td>\n",
              "    </tr>\n",
              "    <tr>\n",
              "      <th>16389</th>\n",
              "      <td>understand chaotic evil anarchist people dra...</td>\n",
              "      <td>['understand', 'chaotic', 'evil', 'anarchist',...</td>\n",
              "      <td>positive</td>\n",
              "    </tr>\n",
              "  </tbody>\n",
              "</table>\n",
              "<p>40000 rows × 3 columns</p>\n",
              "</div>"
            ],
            "text/plain": [
              "                                                    lemma  \\\n",
              "34272     classic Scorsese moment favorite scene DiCap...   \n",
              "126018    gore zombie look fake zombie suppose smart e...   \n",
              "88491     movie make stop think think go buy ticket wa...   \n",
              "105346                                     review helpful   \n",
              "52657                                       watch tonight   \n",
              "...                                                   ...   \n",
              "91247                                even see trailer yet   \n",
              "158882                 guess character suppose persuasive   \n",
              "24519                                      review helpful   \n",
              "86399     realize drug end even beautiful dream charac...   \n",
              "16389     understand chaotic evil anarchist people dra...   \n",
              "\n",
              "                                              lemma_words  polarity  \n",
              "34272   ['classic', 'Scorsese', 'moment', 'favorite', ...  positive  \n",
              "126018  ['gore', 'zombie', 'look', 'fake', 'zombie', '...  positive  \n",
              "88491   ['movie', 'make', 'stop', 'think', 'think', 'g...  positive  \n",
              "105346                              ['review', 'helpful']  positive  \n",
              "52657                                ['watch', 'tonight']  positive  \n",
              "...                                                   ...       ...  \n",
              "91247                   ['even', 'see', 'trailer', 'yet']  positive  \n",
              "158882    ['guess', 'character', 'suppose', 'persuasive']  positive  \n",
              "24519                               ['review', 'helpful']  positive  \n",
              "86399   ['realize', 'drug', 'end', 'even', 'beautiful'...  positive  \n",
              "16389   ['understand', 'chaotic', 'evil', 'anarchist',...  positive  \n",
              "\n",
              "[40000 rows x 3 columns]"
            ]
          },
          "execution_count": 5,
          "metadata": {},
          "output_type": "execute_result"
        }
      ],
      "source": [
        "pos_data = data.loc[data['polarity'] == 'positive']\n",
        "pos_data = pos_data.sample(n=data_each_polarity)\n",
        "pos_data"
      ]
    },
    {
      "cell_type": "code",
      "execution_count": 6,
      "metadata": {
        "colab": {
          "base_uri": "https://localhost:8080/",
          "height": 424
        },
        "id": "_5o68nlsjF-j",
        "outputId": "64157742-d182-49fe-862d-b310e0900fcc"
      },
      "outputs": [
        {
          "data": {
            "text/html": [
              "<div>\n",
              "<style scoped>\n",
              "    .dataframe tbody tr th:only-of-type {\n",
              "        vertical-align: middle;\n",
              "    }\n",
              "\n",
              "    .dataframe tbody tr th {\n",
              "        vertical-align: top;\n",
              "    }\n",
              "\n",
              "    .dataframe thead th {\n",
              "        text-align: right;\n",
              "    }\n",
              "</style>\n",
              "<table border=\"1\" class=\"dataframe\">\n",
              "  <thead>\n",
              "    <tr style=\"text-align: right;\">\n",
              "      <th></th>\n",
              "      <th>lemma</th>\n",
              "      <th>lemma_words</th>\n",
              "      <th>polarity</th>\n",
              "    </tr>\n",
              "  </thead>\n",
              "  <tbody>\n",
              "    <tr>\n",
              "      <th>97991</th>\n",
              "      <td>many people quite either prologue leave Scot...</td>\n",
              "      <td>['many', 'people', 'quite', 'either', 'prologu...</td>\n",
              "      <td>negative</td>\n",
              "    </tr>\n",
              "    <tr>\n",
              "      <th>51356</th>\n",
              "      <td>end Matrix however leave think great</td>\n",
              "      <td>['end', 'Matrix', 'however', 'leave', 'think',...</td>\n",
              "      <td>negative</td>\n",
              "    </tr>\n",
              "    <tr>\n",
              "      <th>46911</th>\n",
              "      <td>One team sacrifice attain one Infinity Stones</td>\n",
              "      <td>['One', 'team', 'sacrifice', 'attain', 'one', ...</td>\n",
              "      <td>negative</td>\n",
              "    </tr>\n",
              "    <tr>\n",
              "      <th>180975</th>\n",
              "      <td>Everything wrong right bad toothed vegetaria...</td>\n",
              "      <td>['Everything', 'wrong', 'right', 'bad', 'tooth...</td>\n",
              "      <td>negative</td>\n",
              "    </tr>\n",
              "    <tr>\n",
              "      <th>97626</th>\n",
              "      <td>complex plot tell retired cop terror height ...</td>\n",
              "      <td>['complex', 'plot', 'tell', 'retired', 'cop', ...</td>\n",
              "      <td>negative</td>\n",
              "    </tr>\n",
              "    <tr>\n",
              "      <th>...</th>\n",
              "      <td>...</td>\n",
              "      <td>...</td>\n",
              "      <td>...</td>\n",
              "    </tr>\n",
              "    <tr>\n",
              "      <th>84406</th>\n",
              "      <td>film stay Aronofsky give last impression gre...</td>\n",
              "      <td>['film', 'stay', 'Aronofsky', 'give', 'last', ...</td>\n",
              "      <td>negative</td>\n",
              "    </tr>\n",
              "    <tr>\n",
              "      <th>174964</th>\n",
              "      <td>Mario Van Peebles annoy way Shark kill ridic...</td>\n",
              "      <td>['Mario', 'Van', 'Peebles', 'annoy', 'way', 'S...</td>\n",
              "      <td>negative</td>\n",
              "    </tr>\n",
              "    <tr>\n",
              "      <th>9556</th>\n",
              "      <td>people talk piece crap usually bring distoib...</td>\n",
              "      <td>['people', 'talk', 'piece', 'crap', 'usually',...</td>\n",
              "      <td>negative</td>\n",
              "    </tr>\n",
              "    <tr>\n",
              "      <th>166119</th>\n",
              "      <td>Wow probably one ugly movie ever see</td>\n",
              "      <td>['Wow', 'probably', 'one', 'ugly', 'movie', 'e...</td>\n",
              "      <td>negative</td>\n",
              "    </tr>\n",
              "    <tr>\n",
              "      <th>88705</th>\n",
              "      <td>find Memento insult poorly write badly resea...</td>\n",
              "      <td>['find', 'Memento', 'insult', 'poorly', 'write...</td>\n",
              "      <td>negative</td>\n",
              "    </tr>\n",
              "  </tbody>\n",
              "</table>\n",
              "<p>40000 rows × 3 columns</p>\n",
              "</div>"
            ],
            "text/plain": [
              "                                                    lemma  \\\n",
              "97991     many people quite either prologue leave Scot...   \n",
              "51356                end Matrix however leave think great   \n",
              "46911       One team sacrifice attain one Infinity Stones   \n",
              "180975    Everything wrong right bad toothed vegetaria...   \n",
              "97626     complex plot tell retired cop terror height ...   \n",
              "...                                                   ...   \n",
              "84406     film stay Aronofsky give last impression gre...   \n",
              "174964    Mario Van Peebles annoy way Shark kill ridic...   \n",
              "9556      people talk piece crap usually bring distoib...   \n",
              "166119               Wow probably one ugly movie ever see   \n",
              "88705     find Memento insult poorly write badly resea...   \n",
              "\n",
              "                                              lemma_words  polarity  \n",
              "97991   ['many', 'people', 'quite', 'either', 'prologu...  negative  \n",
              "51356   ['end', 'Matrix', 'however', 'leave', 'think',...  negative  \n",
              "46911   ['One', 'team', 'sacrifice', 'attain', 'one', ...  negative  \n",
              "180975  ['Everything', 'wrong', 'right', 'bad', 'tooth...  negative  \n",
              "97626   ['complex', 'plot', 'tell', 'retired', 'cop', ...  negative  \n",
              "...                                                   ...       ...  \n",
              "84406   ['film', 'stay', 'Aronofsky', 'give', 'last', ...  negative  \n",
              "174964  ['Mario', 'Van', 'Peebles', 'annoy', 'way', 'S...  negative  \n",
              "9556    ['people', 'talk', 'piece', 'crap', 'usually',...  negative  \n",
              "166119  ['Wow', 'probably', 'one', 'ugly', 'movie', 'e...  negative  \n",
              "88705   ['find', 'Memento', 'insult', 'poorly', 'write...  negative  \n",
              "\n",
              "[40000 rows x 3 columns]"
            ]
          },
          "execution_count": 6,
          "metadata": {},
          "output_type": "execute_result"
        }
      ],
      "source": [
        "neg_data = data.loc[data['polarity'] == 'negative']\n",
        "neg_data = neg_data.sample(n=data_each_polarity)\n",
        "neg_data"
      ]
    },
    {
      "cell_type": "code",
      "execution_count": 7,
      "metadata": {
        "colab": {
          "base_uri": "https://localhost:8080/",
          "height": 424
        },
        "id": "FetEy2whjhMr",
        "outputId": "0ae4558c-d92d-43ea-9741-3c9a2ce570ae"
      },
      "outputs": [
        {
          "data": {
            "text/html": [
              "<div>\n",
              "<style scoped>\n",
              "    .dataframe tbody tr th:only-of-type {\n",
              "        vertical-align: middle;\n",
              "    }\n",
              "\n",
              "    .dataframe tbody tr th {\n",
              "        vertical-align: top;\n",
              "    }\n",
              "\n",
              "    .dataframe thead th {\n",
              "        text-align: right;\n",
              "    }\n",
              "</style>\n",
              "<table border=\"1\" class=\"dataframe\">\n",
              "  <thead>\n",
              "    <tr style=\"text-align: right;\">\n",
              "      <th></th>\n",
              "      <th>lemma</th>\n",
              "      <th>lemma_words</th>\n",
              "      <th>polarity</th>\n",
              "    </tr>\n",
              "  </thead>\n",
              "  <tbody>\n",
              "    <tr>\n",
              "      <th>0</th>\n",
              "      <td>classic Scorsese moment favorite scene DiCap...</td>\n",
              "      <td>['classic', 'Scorsese', 'moment', 'favorite', ...</td>\n",
              "      <td>1</td>\n",
              "    </tr>\n",
              "    <tr>\n",
              "      <th>1</th>\n",
              "      <td>gore zombie look fake zombie suppose smart e...</td>\n",
              "      <td>['gore', 'zombie', 'look', 'fake', 'zombie', '...</td>\n",
              "      <td>1</td>\n",
              "    </tr>\n",
              "    <tr>\n",
              "      <th>2</th>\n",
              "      <td>movie make stop think think go buy ticket wa...</td>\n",
              "      <td>['movie', 'make', 'stop', 'think', 'think', 'g...</td>\n",
              "      <td>1</td>\n",
              "    </tr>\n",
              "    <tr>\n",
              "      <th>3</th>\n",
              "      <td>review helpful</td>\n",
              "      <td>['review', 'helpful']</td>\n",
              "      <td>1</td>\n",
              "    </tr>\n",
              "    <tr>\n",
              "      <th>4</th>\n",
              "      <td>watch tonight</td>\n",
              "      <td>['watch', 'tonight']</td>\n",
              "      <td>1</td>\n",
              "    </tr>\n",
              "    <tr>\n",
              "      <th>...</th>\n",
              "      <td>...</td>\n",
              "      <td>...</td>\n",
              "      <td>...</td>\n",
              "    </tr>\n",
              "    <tr>\n",
              "      <th>79995</th>\n",
              "      <td>film stay Aronofsky give last impression gre...</td>\n",
              "      <td>['film', 'stay', 'Aronofsky', 'give', 'last', ...</td>\n",
              "      <td>0</td>\n",
              "    </tr>\n",
              "    <tr>\n",
              "      <th>79996</th>\n",
              "      <td>Mario Van Peebles annoy way Shark kill ridic...</td>\n",
              "      <td>['Mario', 'Van', 'Peebles', 'annoy', 'way', 'S...</td>\n",
              "      <td>0</td>\n",
              "    </tr>\n",
              "    <tr>\n",
              "      <th>79997</th>\n",
              "      <td>people talk piece crap usually bring distoib...</td>\n",
              "      <td>['people', 'talk', 'piece', 'crap', 'usually',...</td>\n",
              "      <td>0</td>\n",
              "    </tr>\n",
              "    <tr>\n",
              "      <th>79998</th>\n",
              "      <td>Wow probably one ugly movie ever see</td>\n",
              "      <td>['Wow', 'probably', 'one', 'ugly', 'movie', 'e...</td>\n",
              "      <td>0</td>\n",
              "    </tr>\n",
              "    <tr>\n",
              "      <th>79999</th>\n",
              "      <td>find Memento insult poorly write badly resea...</td>\n",
              "      <td>['find', 'Memento', 'insult', 'poorly', 'write...</td>\n",
              "      <td>0</td>\n",
              "    </tr>\n",
              "  </tbody>\n",
              "</table>\n",
              "<p>80000 rows × 3 columns</p>\n",
              "</div>"
            ],
            "text/plain": [
              "                                                   lemma  \\\n",
              "0        classic Scorsese moment favorite scene DiCap...   \n",
              "1        gore zombie look fake zombie suppose smart e...   \n",
              "2        movie make stop think think go buy ticket wa...   \n",
              "3                                         review helpful   \n",
              "4                                          watch tonight   \n",
              "...                                                  ...   \n",
              "79995    film stay Aronofsky give last impression gre...   \n",
              "79996    Mario Van Peebles annoy way Shark kill ridic...   \n",
              "79997    people talk piece crap usually bring distoib...   \n",
              "79998               Wow probably one ugly movie ever see   \n",
              "79999    find Memento insult poorly write badly resea...   \n",
              "\n",
              "                                             lemma_words  polarity  \n",
              "0      ['classic', 'Scorsese', 'moment', 'favorite', ...         1  \n",
              "1      ['gore', 'zombie', 'look', 'fake', 'zombie', '...         1  \n",
              "2      ['movie', 'make', 'stop', 'think', 'think', 'g...         1  \n",
              "3                                  ['review', 'helpful']         1  \n",
              "4                                   ['watch', 'tonight']         1  \n",
              "...                                                  ...       ...  \n",
              "79995  ['film', 'stay', 'Aronofsky', 'give', 'last', ...         0  \n",
              "79996  ['Mario', 'Van', 'Peebles', 'annoy', 'way', 'S...         0  \n",
              "79997  ['people', 'talk', 'piece', 'crap', 'usually',...         0  \n",
              "79998  ['Wow', 'probably', 'one', 'ugly', 'movie', 'e...         0  \n",
              "79999  ['find', 'Memento', 'insult', 'poorly', 'write...         0  \n",
              "\n",
              "[80000 rows x 3 columns]"
            ]
          },
          "execution_count": 7,
          "metadata": {},
          "output_type": "execute_result"
        }
      ],
      "source": [
        "data = pd.concat([pos_data, neg_data], ignore_index=True)\n",
        "data = data.replace({'polarity': {'negative': 0, 'positive': 1}})\n",
        "data"
      ]
    },
    {
      "cell_type": "code",
      "execution_count": 8,
      "metadata": {
        "id": "qb9uvfjEtITl"
      },
      "outputs": [],
      "source": [
        "def fit_and_benchmark(model, X_train,X_test, y_train, y_test):\n",
        "  model.fit(X_train, y_train)\n",
        "  y_pred = model.predict(X_test)\n",
        "  print(classification_report(y_pred,y_test))\n",
        "  print(\"Accuracy:\",accuracy_score(y_pred, y_test))"
      ]
    },
    {
      "cell_type": "code",
      "execution_count": 9,
      "metadata": {
        "id": "aW1oSDS4tjcs"
      },
      "outputs": [],
      "source": [
        "rfclf = RandomForestClassifier()\n",
        "xgb_clf= GradientBoostingClassifier()\n",
        "lgr = LogisticRegression(max_iter=1000)"
      ]
    },
    {
      "cell_type": "code",
      "execution_count": 10,
      "metadata": {
        "id": "_237onr_kPNd"
      },
      "outputs": [],
      "source": [
        "target = data['polarity']\n",
        "lemma_data = data['lemma']\n",
        "lemma_words_data = data['lemma_words'].apply(lambda x: x[1:-1].split(','))"
      ]
    },
    {
      "attachments": {},
      "cell_type": "markdown",
      "metadata": {},
      "source": [
        "### TF-IDF"
      ]
    },
    {
      "cell_type": "code",
      "execution_count": 11,
      "metadata": {
        "id": "geQTOeU3uKPz"
      },
      "outputs": [],
      "source": [
        "def transform_and_split(model, data, target):\n",
        "  X = model.fit_transform(data)\n",
        "  X_train, X_test, y_train, y_test = train_test_split(\n",
        "    X, target, test_size=0.2, random_state=42\n",
        "  )\n",
        "  return X_train, X_test, y_train, y_test"
      ]
    },
    {
      "cell_type": "code",
      "execution_count": 12,
      "metadata": {
        "id": "1RShXgTTuRvi"
      },
      "outputs": [],
      "source": [
        "vectorizer = TfidfVectorizer()"
      ]
    },
    {
      "cell_type": "code",
      "execution_count": 13,
      "metadata": {
        "id": "7gkt7y2EtaBs"
      },
      "outputs": [],
      "source": [
        "X_train, X_test, y_train, y_test = transform_and_split(vectorizer ,lemma_data, target)"
      ]
    },
    {
      "cell_type": "code",
      "execution_count": 14,
      "metadata": {
        "colab": {
          "base_uri": "https://localhost:8080/"
        },
        "id": "FjiqJR6Gts80",
        "outputId": "06ba8fee-06b5-4677-f4cb-20c617c4c1b1"
      },
      "outputs": [
        {
          "name": "stdout",
          "output_type": "stream",
          "text": [
            "              precision    recall  f1-score   support\n",
            "\n",
            "           0       0.86      0.85      0.85      8103\n",
            "           1       0.84      0.85      0.85      7897\n",
            "\n",
            "    accuracy                           0.85     16000\n",
            "   macro avg       0.85      0.85      0.85     16000\n",
            "weighted avg       0.85      0.85      0.85     16000\n",
            "\n",
            "Accuracy: 0.85025\n"
          ]
        }
      ],
      "source": [
        "fit_and_benchmark(rfclf, X_train, X_test, y_train, y_test)"
      ]
    },
    {
      "cell_type": "code",
      "execution_count": 15,
      "metadata": {
        "colab": {
          "base_uri": "https://localhost:8080/"
        },
        "id": "wbk9qaIDuoYR",
        "outputId": "585a0d42-0b95-4baf-c894-f539d29249b8"
      },
      "outputs": [
        {
          "name": "stdout",
          "output_type": "stream",
          "text": [
            "              precision    recall  f1-score   support\n",
            "\n",
            "           0       0.90      0.67      0.76     10806\n",
            "           1       0.55      0.84      0.66      5194\n",
            "\n",
            "    accuracy                           0.72     16000\n",
            "   macro avg       0.72      0.75      0.71     16000\n",
            "weighted avg       0.78      0.72      0.73     16000\n",
            "\n",
            "Accuracy: 0.7215625\n"
          ]
        }
      ],
      "source": [
        "fit_and_benchmark(xgb_clf, X_train, X_test, y_train, y_test)"
      ]
    },
    {
      "cell_type": "code",
      "execution_count": 16,
      "metadata": {
        "colab": {
          "base_uri": "https://localhost:8080/"
        },
        "id": "xykW2SenupVp",
        "outputId": "2910659c-f500-4407-9898-2b61c96fa5f1"
      },
      "outputs": [
        {
          "name": "stdout",
          "output_type": "stream",
          "text": [
            "              precision    recall  f1-score   support\n",
            "\n",
            "           0       0.90      0.89      0.90      8123\n",
            "           1       0.89      0.90      0.89      7877\n",
            "\n",
            "    accuracy                           0.90     16000\n",
            "   macro avg       0.90      0.90      0.90     16000\n",
            "weighted avg       0.90      0.90      0.90     16000\n",
            "\n",
            "Accuracy: 0.895625\n"
          ]
        }
      ],
      "source": [
        "fit_and_benchmark(lgr, X_train, X_test, y_train, y_test)"
      ]
    },
    {
      "attachments": {},
      "cell_type": "markdown",
      "metadata": {},
      "source": [
        "### doc2vec"
      ]
    },
    {
      "cell_type": "code",
      "execution_count": 41,
      "metadata": {},
      "outputs": [],
      "source": [
        "train, test = train_test_split(data, test_size=0.2, random_state=42)"
      ]
    },
    {
      "cell_type": "code",
      "execution_count": 42,
      "metadata": {},
      "outputs": [],
      "source": [
        "train_tagged = train.apply(\n",
        "    lambda r: TaggedDocument(words=r.lemma_words, tags=[r.polarity]), axis=1)\n",
        "test_tagged = test.apply(\n",
        "    lambda r: TaggedDocument(words=r.lemma_words, tags=[r.polarity]), axis=1)"
      ]
    },
    {
      "cell_type": "code",
      "execution_count": 43,
      "metadata": {},
      "outputs": [
        {
          "name": "stderr",
          "output_type": "stream",
          "text": [
            "100%|██████████| 64000/64000 [00:00<00:00, 1527849.15it/s]\n"
          ]
        }
      ],
      "source": [
        "d2v = Doc2Vec(dm=0, vector_size=300, min_count=2, workers=cores)\n",
        "d2v.build_vocab([x for x in tqdm(train_tagged.values)])"
      ]
    },
    {
      "cell_type": "code",
      "execution_count": 44,
      "metadata": {},
      "outputs": [
        {
          "name": "stderr",
          "output_type": "stream",
          "text": [
            "100%|██████████| 64000/64000 [00:00<00:00, 1833475.33it/s]\n",
            "100%|██████████| 64000/64000 [00:00<00:00, 3055611.34it/s]\n",
            "100%|██████████| 64000/64000 [00:00<00:00, 4007516.18it/s]\n",
            "100%|██████████| 64000/64000 [00:00<00:00, 3558358.60it/s]\n",
            "100%|██████████| 64000/64000 [00:00<00:00, 2916920.64it/s]\n",
            "100%|██████████| 64000/64000 [00:00<00:00, 2059517.54it/s]\n",
            "100%|██████████| 64000/64000 [00:00<00:00, 2002636.92it/s]\n",
            "100%|██████████| 64000/64000 [00:00<00:00, 3430616.59it/s]\n",
            "100%|██████████| 64000/64000 [00:00<00:00, 1688676.89it/s]\n",
            "100%|██████████| 64000/64000 [00:00<00:00, 1837252.53it/s]\n",
            "100%|██████████| 64000/64000 [00:00<00:00, 2911447.46it/s]\n",
            "100%|██████████| 64000/64000 [00:00<00:00, 2790157.33it/s]\n",
            "100%|██████████| 64000/64000 [00:00<00:00, 3371288.25it/s]\n",
            "100%|██████████| 64000/64000 [00:00<00:00, 2069983.47it/s]\n",
            "100%|██████████| 64000/64000 [00:00<00:00, 3557274.04it/s]\n",
            "100%|██████████| 64000/64000 [00:00<00:00, 3523468.61it/s]\n",
            "100%|██████████| 64000/64000 [00:00<00:00, 3775304.22it/s]\n",
            "100%|██████████| 64000/64000 [00:00<00:00, 2877152.55it/s]\n",
            "100%|██████████| 64000/64000 [00:00<00:00, 3565258.67it/s]\n",
            "100%|██████████| 64000/64000 [00:00<00:00, 2468190.44it/s]\n",
            "100%|██████████| 64000/64000 [00:00<00:00, 2291832.42it/s]\n",
            "100%|██████████| 64000/64000 [00:00<00:00, 3557839.81it/s]\n",
            "100%|██████████| 64000/64000 [00:00<00:00, 2094615.55it/s]\n",
            "100%|██████████| 64000/64000 [00:00<00:00, 3775304.22it/s]\n",
            "100%|██████████| 64000/64000 [00:00<00:00, 2373392.65it/s]\n",
            "100%|██████████| 64000/64000 [00:00<00:00, 3366637.27it/s]\n",
            "100%|██████████| 64000/64000 [00:00<00:00, 3055785.26it/s]\n",
            "100%|██████████| 64000/64000 [00:00<00:00, 3565590.17it/s]\n",
            "100%|██████████| 64000/64000 [00:00<00:00, 3370822.58it/s]\n",
            "100%|██████████| 64000/64000 [00:00<00:00, 2916888.95it/s]\n"
          ]
        },
        {
          "name": "stdout",
          "output_type": "stream",
          "text": [
            "CPU times: total: 12.3 s\n",
            "Wall time: 1min 44s\n"
          ]
        }
      ],
      "source": [
        "%%time\n",
        "for epoch in range(30):\n",
        "    d2v.train(utils.shuffle([x for x in tqdm(train_tagged.values)]), total_examples=len(train_tagged.values), epochs=1)\n",
        "    d2v.alpha -= 0.002\n",
        "    d2v.min_alpha = d2v.alpha"
      ]
    },
    {
      "cell_type": "code",
      "execution_count": 45,
      "metadata": {},
      "outputs": [],
      "source": [
        "def vec_for_learning(model, tagged_docs):\n",
        "    sents = tagged_docs.values\n",
        "    targets, regressors = zip(*[(doc.tags[0], model.infer_vector(list(doc.words))) for doc in sents])\n",
        "    return targets, regressors"
      ]
    },
    {
      "cell_type": "code",
      "execution_count": 46,
      "metadata": {},
      "outputs": [],
      "source": [
        "y_train, X_train = vec_for_learning(d2v, train_tagged)\n",
        "y_test, X_test = vec_for_learning(d2v, test_tagged)"
      ]
    },
    {
      "cell_type": "code",
      "execution_count": 47,
      "metadata": {
        "colab": {
          "base_uri": "https://localhost:8080/"
        },
        "id": "iZYSRLyNu2IB",
        "outputId": "5bd38165-5737-41e0-d9cc-b4f2105d84fe"
      },
      "outputs": [
        {
          "name": "stdout",
          "output_type": "stream",
          "text": [
            "              precision    recall  f1-score   support\n",
            "\n",
            "           0       0.63      0.53      0.57      9502\n",
            "           1       0.44      0.54      0.48      6498\n",
            "\n",
            "    accuracy                           0.53     16000\n",
            "   macro avg       0.53      0.53      0.53     16000\n",
            "weighted avg       0.55      0.53      0.54     16000\n",
            "\n",
            "Accuracy: 0.5333125\n"
          ]
        }
      ],
      "source": [
        "fit_and_benchmark(rfclf, X_train, X_test, y_train, y_test)"
      ]
    },
    {
      "cell_type": "code",
      "execution_count": 48,
      "metadata": {
        "colab": {
          "base_uri": "https://localhost:8080/"
        },
        "id": "dKWLnCxwu20x",
        "outputId": "0f72548e-562a-4afd-dd80-1ae4144359bf"
      },
      "outputs": [
        {
          "name": "stdout",
          "output_type": "stream",
          "text": [
            "              precision    recall  f1-score   support\n",
            "\n",
            "           0       0.81      0.52      0.64     12429\n",
            "           1       0.26      0.58      0.36      3571\n",
            "\n",
            "    accuracy                           0.54     16000\n",
            "   macro avg       0.53      0.55      0.50     16000\n",
            "weighted avg       0.69      0.54      0.57     16000\n",
            "\n",
            "Accuracy: 0.535625\n"
          ]
        }
      ],
      "source": [
        "fit_and_benchmark(xgb_clf, X_train, X_test, y_train, y_test)"
      ]
    },
    {
      "cell_type": "code",
      "execution_count": 49,
      "metadata": {
        "colab": {
          "base_uri": "https://localhost:8080/"
        },
        "id": "qMNBsUwTu4jh",
        "outputId": "75c83d17-f0e5-4812-95ac-01448f95857b"
      },
      "outputs": [
        {
          "name": "stdout",
          "output_type": "stream",
          "text": [
            "              precision    recall  f1-score   support\n",
            "\n",
            "           0       0.65      0.52      0.58     10053\n",
            "           1       0.40      0.53      0.45      5947\n",
            "\n",
            "    accuracy                           0.52     16000\n",
            "   macro avg       0.52      0.53      0.52     16000\n",
            "weighted avg       0.56      0.52      0.53     16000\n",
            "\n",
            "Accuracy: 0.52425\n"
          ]
        }
      ],
      "source": [
        "fit_and_benchmark(lgr, X_train, X_test, y_train, y_test)"
      ]
    }
  ],
  "metadata": {
    "colab": {
      "provenance": []
    },
    "kernelspec": {
      "display_name": "Python 3",
      "name": "python3"
    },
    "language_info": {
      "codemirror_mode": {
        "name": "ipython",
        "version": 3
      },
      "file_extension": ".py",
      "mimetype": "text/x-python",
      "name": "python",
      "nbconvert_exporter": "python",
      "pygments_lexer": "ipython3",
      "version": "3.9.7"
    }
  },
  "nbformat": 4,
  "nbformat_minor": 0
}
